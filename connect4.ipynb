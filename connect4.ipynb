{
 "cells": [
  {
   "cell_type": "code",
   "execution_count": 1,
   "metadata": {
    "collapsed": true
   },
   "outputs": [],
   "source": [
    "from IPython.display import HTML"
   ]
  },
  {
   "cell_type": "code",
   "execution_count": 6,
   "metadata": {
    "collapsed": false
   },
   "outputs": [],
   "source": [
    "class Connect4:\n",
    "    def get_col_row(self, col, row):\n",
    "        pos = col * 7 + row\n",
    "        mask = 1 << pos\n",
    "        if self.data[1] & mask:\n",
    "            return 2\n",
    "        return int(bool(self.data[0] & mask))\n",
    "    \n",
    "    def set_col_row(self, col, row, value):\n",
    "        # assert value in [0,1,2]\n",
    "        pos = col * 7 + row\n",
    "        mask = 1 << pos\n",
    "        neg_mask = 0xFFFFFFFF^mask       \n",
    "        if value == 1 or value ==2:\n",
    "            self.data[value-1] |= mask\n",
    "            self.data[2-value] &= neg_mask\n",
    "        else:\n",
    "            self.data[0] &= neg_mask\n",
    "            self.data[1] &= neg_mask\n",
    "            \n",
    "    def __init__(self, data=None):\n",
    "        self.data = [0, 0] if data is None else data\n",
    "        self.turn = 0\n",
    "        self.history = []\n",
    "    \n",
    "    def remove(self, col):\n",
    "        shift = col*7\n",
    "        mask = (((self.data[0]|self.data[1]) >> shift) &0x3f) +1\n",
    "        mask >>= 1\n",
    "        neg_mask = 0xFFFFFFFF^mask\n",
    "        self.data[0] &= neg_mask\n",
    "        self.data[1] &= neg_mask\n",
    "        \n",
    "    def move(self, col, test=False):\n",
    "        shift = col*7\n",
    "        mask = (((self.data[0]|self.data[1]) >> shift) &0x3f) +1\n",
    "        if mask >= 64:\n",
    "            return None\n",
    "        if not test:\n",
    "            self.data[self.turn%2] |= (mask<<shift)\n",
    "            self.turn += 1\n",
    "        return self\n",
    "    \n",
    "    def board_data(self):\n",
    "        for i in range(7):\n",
    "            for j in range(6):\n",
    "                c = self.get_col_row(i,j)\n",
    "                if c!=0:\n",
    "                    yield i,j,c\n",
    "                    \n",
    "    def _repr_html_(self):\n",
    "        def pos(i):\n",
    "            return int(7+(220-6.5)*i/8)\n",
    "        imgstr = \"<img src='img/go%s.png' width='23px' height='23px' style='position: absolute; top: %spx; left: %spx;margin-top: 0' />\"\n",
    "        return \"\"\"<div style=\"width: 250px; height:250px;position: relative\">\n",
    "       <img src='img/Blank_Go_board_9x9.png' width=\"100%\" height=\"100%\" style=\"position: relative;left: 0;top: 0;margin-top: 0\"/>\n",
    "       \"\"\" + \"\\n\".join(imgstr%('white' if c==1 else 'black', pos(j), pos(i)) for (i,j,c) in self.board_data()) +\"</div>\"\n",
    "    \n",
    "    def __repr__(self):\n",
    "        row_str = lambda j: \"\".join(\".ox\"[self.get_col_row(i,j)] for i in range(7))\n",
    "        return \"\\n\".join(row_str(j) for j in range(5,-1,-1))"
   ]
  },
  {
   "cell_type": "code",
   "execution_count": 7,
   "metadata": {
    "collapsed": true
   },
   "outputs": [],
   "source": [
    "c4game = Connect4()"
   ]
  },
  {
   "cell_type": "code",
   "execution_count": 8,
   "metadata": {
    "collapsed": false
   },
   "outputs": [
    {
     "data": {
      "text/html": [
       "<div style=\"width: 250px; height:250px;position: relative\">\n",
       "       <img src='img/Blank_Go_board_9x9.png' width=\"100%\" height=\"100%\" style=\"position: relative;left: 0;top: 0;margin-top: 0\"/>\n",
       "       <img src='img/gowhite.png' width='23px' height='23px' style='position: absolute; top: 7px; left: 33px;margin-top: 0' />\n",
       "<img src='img/gowhite.png' width='23px' height='23px' style='position: absolute; top: 33px; left: 33px;margin-top: 0' />\n",
       "<img src='img/goblack.png' width='23px' height='23px' style='position: absolute; top: 7px; left: 60px;margin-top: 0' /></div>"
      ],
      "text/plain": [
       ".......\n",
       ".......\n",
       ".......\n",
       ".......\n",
       ".o.....\n",
       ".ox...."
      ]
     },
     "execution_count": 8,
     "metadata": {},
     "output_type": "execute_result"
    }
   ],
   "source": [
    "c4game.move(1).move(2).move(1)"
   ]
  },
  {
   "cell_type": "code",
   "execution_count": 10,
   "metadata": {
    "collapsed": false
   },
   "outputs": [
    {
     "name": "stdout",
     "output_type": "stream",
     "text": [
      ".......\n",
      ".......\n",
      ".......\n",
      ".......\n",
      ".o.....\n",
      ".ox....\n"
     ]
    }
   ],
   "source": [
    "print(repr(c4game))"
   ]
  }
 ],
 "metadata": {
  "kernelspec": {
   "display_name": "Python 3",
   "language": "python",
   "name": "python3"
  },
  "language_info": {
   "codemirror_mode": {
    "name": "ipython",
    "version": 3
   },
   "file_extension": ".py",
   "mimetype": "text/x-python",
   "name": "python",
   "nbconvert_exporter": "python",
   "pygments_lexer": "ipython3",
   "version": "3.4.3"
  }
 },
 "nbformat": 4,
 "nbformat_minor": 0
}
