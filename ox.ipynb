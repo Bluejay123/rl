{
 "cells": [
  {
   "cell_type": "code",
   "execution_count": 94,
   "metadata": {
    "collapsed": false
   },
   "outputs": [],
   "source": [
    "from functools import reduce\n",
    "def to_bits(*l):\n",
    "    return reduce(lambda r,i: r |(1<<i), l, 0)\n",
    "\n",
    "def winning_patterns():\n",
    "    v1 = to_bits(0,1,2)\n",
    "    h1 = to_bits(0,3,6)\n",
    "    return [v1, v1<<3, v1<<6, h1, h1<<1, h1<<2, to_bits(0,4,8), to_bits(2,4,6)]\n",
    "WINNING_PATTERNS = winning_patterns()\n",
    "\n",
    "class Game:\n",
    "    def __init__(self):\n",
    "        self.board = [0,0]\n",
    "        self.step = -1\n",
    "        self.result = None\n",
    "        \n",
    "    def possible_moves(self):\n",
    "        occupied = self.board[0]|self.board[1]\n",
    "        return [i for i in range(9) if occupied&(1<<i) ==0]\n",
    "    \n",
    "    def move(self, i):\n",
    "        self.step+=1\n",
    "        color = self.step&1\n",
    "        occupied = self.board[0]|self.board[1]\n",
    "        assert (occupied >> i)&1 == 0\n",
    "        self.board[color] |= (1<<i)\n",
    "        if any(p&self.board[color] == p for p in WINNING_PATTERNS):\n",
    "            self.end = True\n",
    "            self.result = 2*color-1\n",
    "        elif self.step == 8:\n",
    "            self.result = 0\n",
    "    \n",
    "    def sim_move(self, i):        \n",
    "        color = (self.step+1)&1\n",
    "        board = self.board[:]\n",
    "        board[color] |= (1<<i)\n",
    "        return (board[0]<<9)|board[1]\n",
    "            \n",
    "    def repr(self):\n",
    "        rtn = \"\"\n",
    "        for i in range(9):\n",
    "            is_o = (self.board[0]>>i)&1\n",
    "            is_x = (self.board[1]>>i)&1\n",
    "            p = '.ox'[is_o + 2*is_x]\n",
    "            rtn+=p\n",
    "            if i%3==2:\n",
    "                rtn+=\"\\n\"\n",
    "        return rtn"
   ]
  },
  {
   "cell_type": "code",
   "execution_count": 95,
   "metadata": {
    "collapsed": true
   },
   "outputs": [],
   "source": [
    "from random import choice, random"
   ]
  },
  {
   "cell_type": "code",
   "execution_count": 221,
   "metadata": {
    "collapsed": true
   },
   "outputs": [],
   "source": [
    "Q=[None]*2**18\n",
    "reg = lambda x: 1. if x is None else -x"
   ]
  },
  {
   "cell_type": "code",
   "execution_count": 223,
   "metadata": {
    "collapsed": false
   },
   "outputs": [
    {
     "name": "stdout",
     "output_type": "stream",
     "text": [
      "result 0\n",
      "color 0 new score 0.0 [-0.0]\n",
      "oxo\n",
      "xx.\n",
      "oox\n",
      "\n",
      "\n",
      "color 1 new score -7.617734804586638e-07 [0.0, 0.1]\n",
      "oxo\n",
      ".x.\n",
      "oox\n",
      "\n",
      "\n",
      "color 0 new score 6.345573092220667e-06 [-7.617734804586638e-07, 0.19, 0.1]\n",
      ".xo\n",
      ".x.\n",
      "oox\n",
      "\n",
      "\n",
      "color 1 new score -3.001996931791502e-05 [0.1, 0.1, 6.345573092220667e-06, 0.1]\n",
      ".xo\n",
      "...\n",
      "oox\n",
      "\n",
      "\n",
      "color 0 new score 9.8264360692981e-05 [0.0, 0.0, 0.0, 0.0, -3.001996931791502e-05]\n",
      ".xo\n",
      "...\n",
      ".ox\n",
      "\n",
      "\n",
      "color 1 new score -0.00024862211302664484 [0.006246255889000001, 9.8264360692981e-05, 0.007205590000000001, 0.006741104410000001, 0.008115687379000001, 0.007048904410000001]\n",
      "..o\n",
      "...\n",
      ".ox\n",
      "\n",
      "\n",
      "color 0 new score 0.0005174197348110656 [-0.00010000000000000003, -0.00010000000000000003, -1.0000000000000004e-06, -0.00019000000000000006, 1.0000000000000004e-05, -0.00010000000000000003, -0.00024862211302664484]\n",
      "..o\n",
      "...\n",
      "..x\n",
      "\n",
      "\n",
      "color 1 new score -0.000901644119994498 [0.005055156089654183, 0.004759388248946839, 0.004595590000000001, 0.005028802314148901, 0.004685590000000001, 0.004806193811969446, 0.004595590000000001, 0.0005174197348110656]\n",
      "..o\n",
      "...\n",
      "...\n",
      "\n",
      "\n",
      "color 0 new score 0.0013980372169357803 [4.095100000000002e-07, 1.6804900000000005e-07, -0.000901644119994498, 0.0, 0.0, -3.872643654232105e-08, 7.889382100000003e-06, -3.958367148977922e-08, -4.0041531663133275e-08]\n",
      "...\n",
      "...\n",
      "...\n",
      "\n",
      "\n"
     ]
    }
   ],
   "source": [
    "def run_game(game, verbose = False):\n",
    "    board = (game.board[0]<<9)|game.board[1]\n",
    "    if game.result is not None:\n",
    "        Q[board] = -abs(float(game.result))\n",
    "        if verbose:\n",
    "            print(\"result\", game.result)\n",
    "        return\n",
    "    color = (game.step+1)&1\n",
    "    d = 2*color -1\n",
    "    moves = game.possible_moves()    \n",
    "    boards = [game.sim_move(m) for m in moves]            \n",
    "    r = random()\n",
    "    if r < 0.01:\n",
    "        m = choice(moves)\n",
    "    else:\n",
    "        values = [reg(Q[b]) for b in boards]\n",
    "        m = max(zip(values,moves))[1]\n",
    "    s = game.repr()\n",
    "    game.move(m)\n",
    "    run_game(game, verbose)\n",
    "    estQ = max(-Q[b] for b in boards if Q[b] is not None)\n",
    "    if Q[board] is None:\n",
    "        Q[board] = 0.\n",
    "    Q[board]+=0.1*(estQ-Q[board])\n",
    "    if verbose:\n",
    "        print(\"color\", color, \"new score\", Q[board], [Q[b] for b in boards])   \n",
    "        print(s)\n",
    "        print()\n",
    "for i in range(1000):\n",
    "    run_game(Game())\n",
    "run_game(Game(), True)"
   ]
  },
  {
   "cell_type": "code",
   "execution_count": null,
   "metadata": {
    "collapsed": true
   },
   "outputs": [],
   "source": []
  },
  {
   "cell_type": "code",
   "execution_count": null,
   "metadata": {
    "collapsed": true
   },
   "outputs": [],
   "source": []
  }
 ],
 "metadata": {
  "kernelspec": {
   "display_name": "Python 3",
   "language": "python",
   "name": "python3"
  },
  "language_info": {
   "codemirror_mode": {
    "name": "ipython",
    "version": 3
   },
   "file_extension": ".py",
   "mimetype": "text/x-python",
   "name": "python",
   "nbconvert_exporter": "python",
   "pygments_lexer": "ipython3",
   "version": "3.4.0"
  }
 },
 "nbformat": 4,
 "nbformat_minor": 0
}
