{
 "cells": [
  {
   "cell_type": "code",
   "execution_count": 38,
   "metadata": {
    "collapsed": true
   },
   "outputs": [],
   "source": [
    "from IPython.display import HTML, display"
   ]
  },
  {
   "cell_type": "code",
   "execution_count": 61,
   "metadata": {
    "collapsed": false
   },
   "outputs": [],
   "source": [
    "class Connect4:\n",
    "    def get_col_row(self, col, row):\n",
    "        pos = col * 7 + row\n",
    "        mask = 1 << pos\n",
    "        if self.data[1] & mask:\n",
    "            return 2\n",
    "        return int(bool(self.data[0] & mask))\n",
    "    \n",
    "    def iswin(self):\n",
    "        bitboard = self.data[1-self.turn%2]\n",
    "        bound = 1 << 49\n",
    "        # horizontal\n",
    "        mask = 0x204081 # 0x204081 = 1|(1<<7)|(1<<14)|(1<<21)\n",
    "        while mask < bound:\n",
    "            if mask & bitboard == mask:\n",
    "                return True\n",
    "            mask <<= 1\n",
    "        # vertical\n",
    "        mask = 0xf # 0xf = 1|(1<<1)|(1<<2)|(1<<3)\n",
    "        while mask < bound:\n",
    "            if mask & bitboard == mask:\n",
    "                return True\n",
    "            mask <<= 1\n",
    "        # up-right\n",
    "        mask = 0x1010101 # 0x1010101 = 1|(1<<8)|(1<<16)|(1<<24)\n",
    "        while mask < bound:\n",
    "            if mask & bitboard == mask:\n",
    "                return True\n",
    "            mask <<= 1\n",
    "        # down-right\n",
    "        mask = 0x208208 # 0x208208 = (1<<3)|(1<<9)|(1<<15)|(1<<21)\n",
    "        while mask < bound:\n",
    "            if mask & bitboard == mask:\n",
    "                return True\n",
    "            mask <<= 1\n",
    "        return False\n",
    "    \n",
    "    def set_col_row(self, col, row, value):\n",
    "        # assert value in [0,1,2]\n",
    "        pos = col * 7 + row\n",
    "        mask = 1 << pos\n",
    "        neg_mask = 0xFFFFFFFF^mask       \n",
    "        if value == 1 or value ==2:\n",
    "            self.data[value-1] |= mask\n",
    "            self.data[2-value] &= neg_mask\n",
    "        else:\n",
    "            self.data[0] &= neg_mask\n",
    "            self.data[1] &= neg_mask\n",
    "            \n",
    "    def __init__(self, data=None):\n",
    "        self.data = [0, 0] if data is None else data\n",
    "        self.turn = 0\n",
    "        self.history = []\n",
    "    \n",
    "    def remove(self, col):\n",
    "        shift = col*7\n",
    "        mask = (((self.data[0]|self.data[1]) >> shift) &0x3f) +1\n",
    "        mask >>= 1\n",
    "        neg_mask = 0xFFFFFFFF^mask\n",
    "        self.data[0] &= neg_mask\n",
    "        self.data[1] &= neg_mask\n",
    "        \n",
    "    def move(self, col, test=False):\n",
    "        assert 0<= col <7\n",
    "        shift = col*7\n",
    "        mask = (((self.data[0]|self.data[1]) >> shift) &0x3f) +1\n",
    "        if mask >= 64:\n",
    "            return None\n",
    "        if not test:\n",
    "            self.data[self.turn%2] |= (mask<<shift)\n",
    "            self.turn += 1\n",
    "        return self\n",
    "    \n",
    "    def board_data(self):\n",
    "        for i in range(7):\n",
    "            for j in range(6):\n",
    "                c = self.get_col_row(i,j)\n",
    "                if c!=0:\n",
    "                    yield i,j,c\n",
    "                    \n",
    "    def _repr_html_(self):\n",
    "        def pos(i):\n",
    "            return int(7+(220-6.5)*i/8)\n",
    "        imgstr = \"<img src='img/go%s.png' width='23px' height='23px' style='position: absolute; top: %spx; left: %spx;margin-top: 0' />\"\n",
    "        return \"\"\"<div style=\"width: 250px; height:250px;position: relative\">\n",
    "       <img src='img/Blank_Go_board_9x9.png' width=\"100%\" height=\"100%\" style=\"position: relative;left: 0;top: 0;margin-top: 0\"/>\n",
    "       \"\"\" + \"\\n\".join(imgstr%('white' if c==1 else 'black', pos(j), pos(i)) for (i,j,c) in self.board_data()) +\"</div>\"\n",
    "    \n",
    "    def display(self):\n",
    "        display(HTML(self._repr_html_()))\n",
    "    \n",
    "    def __repr__(self):\n",
    "        row_str = lambda j: \"\".join(\".ox\"[self.get_col_row(i,j)] for i in range(7))\n",
    "        return \"\\n\".join(row_str(j) for j in range(5,-1,-1))"
   ]
  },
  {
   "cell_type": "code",
   "execution_count": 77,
   "metadata": {
    "collapsed": false
   },
   "outputs": [
    {
     "data": {
      "text/html": [
       "<div style=\"width: 250px; height:250px;position: relative\">\n",
       "       <img src='img/Blank_Go_board_9x9.png' width=\"100%\" height=\"100%\" style=\"position: relative;left: 0;top: 0;margin-top: 0\"/>\n",
       "       <img src='img/gowhite.png' width='23px' height='23px' style='position: absolute; top: 7px; left: 87px;margin-top: 0' />\n",
       "<img src='img/goblack.png' width='23px' height='23px' style='position: absolute; top: 7px; left: 113px;margin-top: 0' />\n",
       "<img src='img/gowhite.png' width='23px' height='23px' style='position: absolute; top: 33px; left: 113px;margin-top: 0' /></div>"
      ],
      "text/plain": [
       ".......\n",
       ".......\n",
       ".......\n",
       ".......\n",
       "....o..\n",
       "...ox.."
      ]
     },
     "execution_count": 77,
     "metadata": {},
     "output_type": "execute_result"
    }
   ],
   "source": [
    "game = Connect4()\n",
    "game.move(3).move(4).move(4)"
   ]
  },
  {
   "cell_type": "code",
   "execution_count": 80,
   "metadata": {
    "collapsed": false
   },
   "outputs": [],
   "source": [
    "def test_moves(name, moves, answers):\n",
    "    print(\"Test::\"+name)\n",
    "    game = Connect4()\n",
    "    for i, m in enumerate(moves):\n",
    "        if game.move(m) is None:\n",
    "            assert answers[i] is None\n",
    "            continue\n",
    "        if game.iswin():\n",
    "            print(i, game.iswin())\n",
    "        assert game.iswin() == answers[i]\n",
    "    return game"
   ]
  },
  {
   "cell_type": "code",
   "execution_count": 81,
   "metadata": {
    "collapsed": false
   },
   "outputs": [
    {
     "name": "stdout",
     "output_type": "stream",
     "text": [
      "Test::Overflow\n"
     ]
    },
    {
     "data": {
      "text/html": [
       "<div style=\"width: 250px; height:250px;position: relative\">\n",
       "       <img src='img/Blank_Go_board_9x9.png' width=\"100%\" height=\"100%\" style=\"position: relative;left: 0;top: 0;margin-top: 0\"/>\n",
       "       <img src='img/gowhite.png' width='23px' height='23px' style='position: absolute; top: 7px; left: 87px;margin-top: 0' />\n",
       "<img src='img/goblack.png' width='23px' height='23px' style='position: absolute; top: 33px; left: 87px;margin-top: 0' />\n",
       "<img src='img/gowhite.png' width='23px' height='23px' style='position: absolute; top: 60px; left: 87px;margin-top: 0' />\n",
       "<img src='img/goblack.png' width='23px' height='23px' style='position: absolute; top: 87px; left: 87px;margin-top: 0' />\n",
       "<img src='img/gowhite.png' width='23px' height='23px' style='position: absolute; top: 113px; left: 87px;margin-top: 0' />\n",
       "<img src='img/goblack.png' width='23px' height='23px' style='position: absolute; top: 140px; left: 87px;margin-top: 0' /></div>"
      ],
      "text/plain": [
       "...x...\n",
       "...o...\n",
       "...x...\n",
       "...o...\n",
       "...x...\n",
       "...o..."
      ]
     },
     "execution_count": 81,
     "metadata": {},
     "output_type": "execute_result"
    }
   ],
   "source": [
    "test_moves(\"Overflow\", [3]*7, [False]*6+[None])"
   ]
  },
  {
   "cell_type": "code",
   "execution_count": 85,
   "metadata": {
    "collapsed": false
   },
   "outputs": [
    {
     "name": "stdout",
     "output_type": "stream",
     "text": [
      "Test::Vertical\n",
      "6 True\n",
      "7 True\n"
     ]
    },
    {
     "data": {
      "text/html": [
       "<div style=\"width: 250px; height:250px;position: relative\">\n",
       "       <img src='img/Blank_Go_board_9x9.png' width=\"100%\" height=\"100%\" style=\"position: relative;left: 0;top: 0;margin-top: 0\"/>\n",
       "       <img src='img/gowhite.png' width='23px' height='23px' style='position: absolute; top: 7px; left: 33px;margin-top: 0' />\n",
       "<img src='img/gowhite.png' width='23px' height='23px' style='position: absolute; top: 33px; left: 33px;margin-top: 0' />\n",
       "<img src='img/gowhite.png' width='23px' height='23px' style='position: absolute; top: 60px; left: 33px;margin-top: 0' />\n",
       "<img src='img/gowhite.png' width='23px' height='23px' style='position: absolute; top: 87px; left: 33px;margin-top: 0' />\n",
       "<img src='img/goblack.png' width='23px' height='23px' style='position: absolute; top: 7px; left: 60px;margin-top: 0' />\n",
       "<img src='img/goblack.png' width='23px' height='23px' style='position: absolute; top: 33px; left: 60px;margin-top: 0' />\n",
       "<img src='img/goblack.png' width='23px' height='23px' style='position: absolute; top: 60px; left: 60px;margin-top: 0' />\n",
       "<img src='img/goblack.png' width='23px' height='23px' style='position: absolute; top: 87px; left: 60px;margin-top: 0' /></div>"
      ],
      "text/plain": [
       ".......\n",
       ".......\n",
       ".ox....\n",
       ".ox....\n",
       ".ox....\n",
       ".ox...."
      ]
     },
     "execution_count": 85,
     "metadata": {},
     "output_type": "execute_result"
    }
   ],
   "source": [
    "test_moves(\"Vertical\", [1,2]*4, [False]*6+[True]*2)"
   ]
  },
  {
   "cell_type": "code",
   "execution_count": 86,
   "metadata": {
    "collapsed": false
   },
   "outputs": [
    {
     "name": "stdout",
     "output_type": "stream",
     "text": [
      "Test::Vertical2\n"
     ]
    },
    {
     "data": {
      "text/html": [
       "<div style=\"width: 250px; height:250px;position: relative\">\n",
       "       <img src='img/Blank_Go_board_9x9.png' width=\"100%\" height=\"100%\" style=\"position: relative;left: 0;top: 0;margin-top: 0\"/>\n",
       "       <img src='img/gowhite.png' width='23px' height='23px' style='position: absolute; top: 7px; left: 33px;margin-top: 0' />\n",
       "<img src='img/gowhite.png' width='23px' height='23px' style='position: absolute; top: 33px; left: 33px;margin-top: 0' />\n",
       "<img src='img/gowhite.png' width='23px' height='23px' style='position: absolute; top: 60px; left: 33px;margin-top: 0' />\n",
       "<img src='img/goblack.png' width='23px' height='23px' style='position: absolute; top: 87px; left: 33px;margin-top: 0' />\n",
       "<img src='img/goblack.png' width='23px' height='23px' style='position: absolute; top: 113px; left: 33px;margin-top: 0' />\n",
       "<img src='img/goblack.png' width='23px' height='23px' style='position: absolute; top: 140px; left: 33px;margin-top: 0' />\n",
       "<img src='img/goblack.png' width='23px' height='23px' style='position: absolute; top: 7px; left: 60px;margin-top: 0' />\n",
       "<img src='img/goblack.png' width='23px' height='23px' style='position: absolute; top: 33px; left: 60px;margin-top: 0' />\n",
       "<img src='img/goblack.png' width='23px' height='23px' style='position: absolute; top: 60px; left: 60px;margin-top: 0' />\n",
       "<img src='img/gowhite.png' width='23px' height='23px' style='position: absolute; top: 87px; left: 60px;margin-top: 0' />\n",
       "<img src='img/gowhite.png' width='23px' height='23px' style='position: absolute; top: 113px; left: 60px;margin-top: 0' />\n",
       "<img src='img/gowhite.png' width='23px' height='23px' style='position: absolute; top: 140px; left: 60px;margin-top: 0' /></div>"
      ],
      "text/plain": [
       ".xo....\n",
       ".xo....\n",
       ".xo....\n",
       ".ox....\n",
       ".ox....\n",
       ".ox...."
      ]
     },
     "execution_count": 86,
     "metadata": {},
     "output_type": "execute_result"
    }
   ],
   "source": [
    "test_moves(\"Vertical2\", [1,2]*3+[2,1]*3, [False]*12)"
   ]
  },
  {
   "cell_type": "code",
   "execution_count": 87,
   "metadata": {
    "collapsed": false
   },
   "outputs": [
    {
     "name": "stdout",
     "output_type": "stream",
     "text": [
      "Test::Horizontal\n",
      "6 True\n",
      "7 True\n"
     ]
    },
    {
     "data": {
      "text/html": [
       "<div style=\"width: 250px; height:250px;position: relative\">\n",
       "       <img src='img/Blank_Go_board_9x9.png' width=\"100%\" height=\"100%\" style=\"position: relative;left: 0;top: 0;margin-top: 0\"/>\n",
       "       <img src='img/gowhite.png' width='23px' height='23px' style='position: absolute; top: 7px; left: 7px;margin-top: 0' />\n",
       "<img src='img/goblack.png' width='23px' height='23px' style='position: absolute; top: 33px; left: 7px;margin-top: 0' />\n",
       "<img src='img/gowhite.png' width='23px' height='23px' style='position: absolute; top: 7px; left: 33px;margin-top: 0' />\n",
       "<img src='img/goblack.png' width='23px' height='23px' style='position: absolute; top: 33px; left: 33px;margin-top: 0' />\n",
       "<img src='img/gowhite.png' width='23px' height='23px' style='position: absolute; top: 7px; left: 60px;margin-top: 0' />\n",
       "<img src='img/goblack.png' width='23px' height='23px' style='position: absolute; top: 33px; left: 60px;margin-top: 0' />\n",
       "<img src='img/gowhite.png' width='23px' height='23px' style='position: absolute; top: 7px; left: 87px;margin-top: 0' />\n",
       "<img src='img/goblack.png' width='23px' height='23px' style='position: absolute; top: 33px; left: 87px;margin-top: 0' /></div>"
      ],
      "text/plain": [
       ".......\n",
       ".......\n",
       ".......\n",
       ".......\n",
       "xxxx...\n",
       "oooo..."
      ]
     },
     "execution_count": 87,
     "metadata": {},
     "output_type": "execute_result"
    }
   ],
   "source": [
    "test_moves(\"Horizontal\", [0,0,1,1,2,2,3,3], [False]*6+[True]*2)"
   ]
  },
  {
   "cell_type": "code",
   "execution_count": 98,
   "metadata": {
    "collapsed": false
   },
   "outputs": [
    {
     "name": "stdout",
     "output_type": "stream",
     "text": [
      "Test::upright1\n",
      "21 True\n",
      "22 True\n"
     ]
    },
    {
     "data": {
      "text/html": [
       "<div style=\"width: 250px; height:250px;position: relative\">\n",
       "       <img src='img/Blank_Go_board_9x9.png' width=\"100%\" height=\"100%\" style=\"position: relative;left: 0;top: 0;margin-top: 0\"/>\n",
       "       <img src='img/gowhite.png' width='23px' height='23px' style='position: absolute; top: 7px; left: 7px;margin-top: 0' />\n",
       "<img src='img/goblack.png' width='23px' height='23px' style='position: absolute; top: 33px; left: 7px;margin-top: 0' />\n",
       "<img src='img/gowhite.png' width='23px' height='23px' style='position: absolute; top: 60px; left: 7px;margin-top: 0' />\n",
       "<img src='img/goblack.png' width='23px' height='23px' style='position: absolute; top: 87px; left: 7px;margin-top: 0' />\n",
       "<img src='img/goblack.png' width='23px' height='23px' style='position: absolute; top: 7px; left: 33px;margin-top: 0' />\n",
       "<img src='img/gowhite.png' width='23px' height='23px' style='position: absolute; top: 33px; left: 33px;margin-top: 0' />\n",
       "<img src='img/goblack.png' width='23px' height='23px' style='position: absolute; top: 60px; left: 33px;margin-top: 0' />\n",
       "<img src='img/gowhite.png' width='23px' height='23px' style='position: absolute; top: 87px; left: 33px;margin-top: 0' />\n",
       "<img src='img/gowhite.png' width='23px' height='23px' style='position: absolute; top: 7px; left: 60px;margin-top: 0' />\n",
       "<img src='img/goblack.png' width='23px' height='23px' style='position: absolute; top: 33px; left: 60px;margin-top: 0' />\n",
       "<img src='img/gowhite.png' width='23px' height='23px' style='position: absolute; top: 60px; left: 60px;margin-top: 0' />\n",
       "<img src='img/goblack.png' width='23px' height='23px' style='position: absolute; top: 7px; left: 87px;margin-top: 0' />\n",
       "<img src='img/gowhite.png' width='23px' height='23px' style='position: absolute; top: 33px; left: 87px;margin-top: 0' />\n",
       "<img src='img/goblack.png' width='23px' height='23px' style='position: absolute; top: 60px; left: 87px;margin-top: 0' />\n",
       "<img src='img/gowhite.png' width='23px' height='23px' style='position: absolute; top: 7px; left: 113px;margin-top: 0' />\n",
       "<img src='img/goblack.png' width='23px' height='23px' style='position: absolute; top: 33px; left: 113px;margin-top: 0' />\n",
       "<img src='img/gowhite.png' width='23px' height='23px' style='position: absolute; top: 60px; left: 113px;margin-top: 0' />\n",
       "<img src='img/goblack.png' width='23px' height='23px' style='position: absolute; top: 7px; left: 140px;margin-top: 0' />\n",
       "<img src='img/gowhite.png' width='23px' height='23px' style='position: absolute; top: 33px; left: 140px;margin-top: 0' />\n",
       "<img src='img/goblack.png' width='23px' height='23px' style='position: absolute; top: 60px; left: 140px;margin-top: 0' />\n",
       "<img src='img/gowhite.png' width='23px' height='23px' style='position: absolute; top: 7px; left: 167px;margin-top: 0' />\n",
       "<img src='img/goblack.png' width='23px' height='23px' style='position: absolute; top: 33px; left: 167px;margin-top: 0' />\n",
       "<img src='img/gowhite.png' width='23px' height='23px' style='position: absolute; top: 60px; left: 167px;margin-top: 0' /></div>"
      ],
      "text/plain": [
       ".......\n",
       ".......\n",
       "xo.....\n",
       "oxoxoxo\n",
       "xoxoxox\n",
       "oxoxoxo"
      ]
     },
     "execution_count": 98,
     "metadata": {},
     "output_type": "execute_result"
    }
   ],
   "source": [
    "test_moves(\"upright1\", [0,1,2,3,4,5,6]*3+[0,1], [False]*21+[True]*2)"
   ]
  },
  {
   "cell_type": "code",
   "execution_count": 99,
   "metadata": {
    "collapsed": false
   },
   "outputs": [
    {
     "name": "stdout",
     "output_type": "stream",
     "text": [
      "Test::upright2\n",
      "Test::upright3\n",
      "16 True\n",
      "17 True\n"
     ]
    },
    {
     "data": {
      "text/html": [
       "<div style=\"width: 250px; height:250px;position: relative\">\n",
       "       <img src='img/Blank_Go_board_9x9.png' width=\"100%\" height=\"100%\" style=\"position: relative;left: 0;top: 0;margin-top: 0\"/>\n",
       "       <img src='img/gowhite.png' width='23px' height='23px' style='position: absolute; top: 7px; left: 7px;margin-top: 0' />\n",
       "<img src='img/goblack.png' width='23px' height='23px' style='position: absolute; top: 33px; left: 7px;margin-top: 0' />\n",
       "<img src='img/gowhite.png' width='23px' height='23px' style='position: absolute; top: 60px; left: 7px;margin-top: 0' />\n",
       "<img src='img/goblack.png' width='23px' height='23px' style='position: absolute; top: 7px; left: 33px;margin-top: 0' />\n",
       "<img src='img/gowhite.png' width='23px' height='23px' style='position: absolute; top: 33px; left: 33px;margin-top: 0' />\n",
       "<img src='img/goblack.png' width='23px' height='23px' style='position: absolute; top: 60px; left: 33px;margin-top: 0' />\n",
       "<img src='img/gowhite.png' width='23px' height='23px' style='position: absolute; top: 7px; left: 60px;margin-top: 0' />\n",
       "<img src='img/goblack.png' width='23px' height='23px' style='position: absolute; top: 33px; left: 60px;margin-top: 0' />\n",
       "<img src='img/gowhite.png' width='23px' height='23px' style='position: absolute; top: 60px; left: 60px;margin-top: 0' />\n",
       "<img src='img/goblack.png' width='23px' height='23px' style='position: absolute; top: 87px; left: 60px;margin-top: 0' />\n",
       "<img src='img/goblack.png' width='23px' height='23px' style='position: absolute; top: 7px; left: 87px;margin-top: 0' />\n",
       "<img src='img/gowhite.png' width='23px' height='23px' style='position: absolute; top: 33px; left: 87px;margin-top: 0' />\n",
       "<img src='img/goblack.png' width='23px' height='23px' style='position: absolute; top: 60px; left: 87px;margin-top: 0' />\n",
       "<img src='img/gowhite.png' width='23px' height='23px' style='position: absolute; top: 87px; left: 87px;margin-top: 0' />\n",
       "<img src='img/gowhite.png' width='23px' height='23px' style='position: absolute; top: 7px; left: 113px;margin-top: 0' />\n",
       "<img src='img/goblack.png' width='23px' height='23px' style='position: absolute; top: 33px; left: 113px;margin-top: 0' />\n",
       "<img src='img/gowhite.png' width='23px' height='23px' style='position: absolute; top: 60px; left: 113px;margin-top: 0' />\n",
       "<img src='img/goblack.png' width='23px' height='23px' style='position: absolute; top: 87px; left: 113px;margin-top: 0' /></div>"
      ],
      "text/plain": [
       ".......\n",
       ".......\n",
       "..xox..\n",
       "oxoxo..\n",
       "xoxox..\n",
       "oxoxo.."
      ]
     },
     "execution_count": 99,
     "metadata": {},
     "output_type": "execute_result"
    }
   ],
   "source": [
    "test_moves(\"upright2\", [0,1,2,3,4,5,6]*3+[1,2], [False]*21+[False]*2)\n",
    "test_moves(\"upright3\", [0,1,2,3,4]*3+[2,3,4], [False]*15+[False,True,True])\n",
    "test_moves(\"upright4\", [0,1,2,3,4,5,6]*3+[2,3], [False]*21+[True]*2)"
   ]
  },
  {
   "cell_type": "code",
   "execution_count": 84,
   "metadata": {
    "collapsed": false
   },
   "outputs": [
    {
     "data": {
      "text/html": [
       "<div style=\"width: 250px; height:250px;position: relative\">\n",
       "       <img src='img/Blank_Go_board_9x9.png' width=\"100%\" height=\"100%\" style=\"position: relative;left: 0;top: 0;margin-top: 0\"/>\n",
       "       <img src='img/goblack.png' width='23px' height='23px' style='position: absolute; top: 7px; left: 33px;margin-top: 0' />\n",
       "<img src='img/gowhite.png' width='23px' height='23px' style='position: absolute; top: 33px; left: 33px;margin-top: 0' />\n",
       "<img src='img/gowhite.png' width='23px' height='23px' style='position: absolute; top: 7px; left: 60px;margin-top: 0' />\n",
       "<img src='img/gowhite.png' width='23px' height='23px' style='position: absolute; top: 33px; left: 60px;margin-top: 0' />\n",
       "<img src='img/goblack.png' width='23px' height='23px' style='position: absolute; top: 60px; left: 60px;margin-top: 0' />\n",
       "<img src='img/goblack.png' width='23px' height='23px' style='position: absolute; top: 87px; left: 60px;margin-top: 0' /></div>"
      ],
      "text/plain": [
       ".......\n",
       ".......\n",
       "..x....\n",
       "..x....\n",
       ".oo....\n",
       ".xo...."
      ]
     },
     "execution_count": 84,
     "metadata": {},
     "output_type": "execute_result"
    }
   ],
   "source": [
    "c4game.move(2).move(1).move(2)"
   ]
  },
  {
   "cell_type": "code",
   "execution_count": 27,
   "metadata": {
    "collapsed": false
   },
   "outputs": [
    {
     "data": {
      "text/html": [
       "<div style=\"width: 250px; height:250px;position: relative\">\n",
       "       <img src='img/Blank_Go_board_9x9.png' width=\"100%\" height=\"100%\" style=\"position: relative;left: 0;top: 0;margin-top: 0\"/>\n",
       "       <img src='img/gowhite.png' width='23px' height='23px' style='position: absolute; top: 7px; left: 33px;margin-top: 0' />\n",
       "<img src='img/gowhite.png' width='23px' height='23px' style='position: absolute; top: 33px; left: 33px;margin-top: 0' />\n",
       "<img src='img/gowhite.png' width='23px' height='23px' style='position: absolute; top: 60px; left: 33px;margin-top: 0' />\n",
       "<img src='img/gowhite.png' width='23px' height='23px' style='position: absolute; top: 87px; left: 33px;margin-top: 0' />\n",
       "<img src='img/goblack.png' width='23px' height='23px' style='position: absolute; top: 7px; left: 60px;margin-top: 0' />\n",
       "<img src='img/goblack.png' width='23px' height='23px' style='position: absolute; top: 33px; left: 60px;margin-top: 0' />\n",
       "<img src='img/goblack.png' width='23px' height='23px' style='position: absolute; top: 60px; left: 60px;margin-top: 0' />\n",
       "<img src='img/gowhite.png' width='23px' height='23px' style='position: absolute; top: 87px; left: 60px;margin-top: 0' />\n",
       "<img src='img/goblack.png' width='23px' height='23px' style='position: absolute; top: 113px; left: 60px;margin-top: 0' /></div>"
      ],
      "text/plain": [
       ".......\n",
       "..x....\n",
       ".oo....\n",
       ".ox....\n",
       ".ox....\n",
       ".ox...."
      ]
     },
     "execution_count": 27,
     "metadata": {},
     "output_type": "execute_result"
    }
   ],
   "source": [
    "c4game.move(1)\n"
   ]
  },
  {
   "cell_type": "code",
   "execution_count": 10,
   "metadata": {
    "collapsed": false
   },
   "outputs": [
    {
     "name": "stdout",
     "output_type": "stream",
     "text": [
      ".......\n",
      ".......\n",
      ".......\n",
      ".......\n",
      ".o.....\n",
      ".ox....\n"
     ]
    }
   ],
   "source": [
    "print(repr(c4game))"
   ]
  }
 ],
 "metadata": {
  "kernelspec": {
   "display_name": "Python 3",
   "language": "python",
   "name": "python3"
  },
  "language_info": {
   "codemirror_mode": {
    "name": "ipython",
    "version": 3
   },
   "file_extension": ".py",
   "mimetype": "text/x-python",
   "name": "python",
   "nbconvert_exporter": "python",
   "pygments_lexer": "ipython3",
   "version": "3.4.3"
  }
 },
 "nbformat": 4,
 "nbformat_minor": 0
}
