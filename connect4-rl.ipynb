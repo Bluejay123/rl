{
 "cells": [
  {
   "cell_type": "code",
   "execution_count": 1,
   "metadata": {
    "collapsed": false
   },
   "outputs": [
    {
     "name": "stderr",
     "output_type": "stream",
     "text": [
      "Using gpu device 0: GeForce GTX 965M (CNMeM is disabled)\n"
     ]
    },
    {
     "data": {
      "text/plain": [
       "'float32'"
      ]
     },
     "execution_count": 1,
     "metadata": {},
     "output_type": "execute_result"
    }
   ],
   "source": [
    "import numpy as np\n",
    "import theano\n",
    "import theano.tensor as T\n",
    "\n",
    "import lasagne\n",
    "floatX = theano.config.floatX\n",
    "floatX"
   ]
  },
  {
   "cell_type": "code",
   "execution_count": 2,
   "metadata": {
    "collapsed": true
   },
   "outputs": [],
   "source": [
    "from IPython.display import HTML, display"
   ]
  },
  {
   "cell_type": "code",
   "execution_count": 3,
   "metadata": {
    "collapsed": true
   },
   "outputs": [],
   "source": [
    "%load_ext Cython"
   ]
  },
  {
   "cell_type": "code",
   "execution_count": 4,
   "metadata": {
    "collapsed": false
   },
   "outputs": [
    {
     "name": "stderr",
     "output_type": "stream",
     "text": [
      "/usr/local/lib/python3.4/dist-packages/IPython/utils/path.py:264: UserWarning: get_ipython_cache_dir has moved to the IPython.paths module\n",
      "  warn(\"get_ipython_cache_dir has moved to the IPython.paths module\")\n"
     ]
    }
   ],
   "source": [
    "%%cython\n",
    "# cython: infer_types=True, annotation_typing=True\n",
    "## cython: infer_types.verbose=True \n",
    "from IPython.display import HTML, display\n",
    "import numpy as np\n",
    "\n",
    "floatX = np.float32\n",
    "\n",
    "binary6 = np.array([ list(map(int,bin(2**6+i)[:2:-1])) for i in range(2**6)], dtype=floatX)\n",
    "height = np.array([-1]*65, dtype=np.int32)\n",
    "for __i in range(6):\n",
    "    height[2**__i]=__i\n",
    "\n",
    "cdef class Connect4:\n",
    "    cdef public:\n",
    "        long turn\n",
    "        long long[2] data\n",
    "    cpdef long get_col_row(self, col: long, row: long):\n",
    "        pos = col * 7 + row\n",
    "        mask = (<long long>1) << pos \n",
    "        if self.data[1] & mask:\n",
    "            return 2\n",
    "        return bool(self.data[0] & mask)\n",
    "    \n",
    "    cpdef long is_end(self):\n",
    "        cdef long long mask\n",
    "        bitboard = self.data[1-self.turn%2]\n",
    "        bound = (<long long>1)<<48 # 49 = 7*(6+1)  \n",
    "        # horizontal: 0x204081 = 1|(1<<7)|(1<<14)|(1<<21)\n",
    "        # vertical: 0xf = 1|(1<<1)|(1<<2)|(1<<3)\n",
    "        # up-right: 0x1010101 = 1|(1<<8)|(1<<16)|(1<<24)\n",
    "        # down-right: 0x208208 = (1<<3)|(1<<9)|(1<<15)|(1<<21)\n",
    "        for mask in [0x204081, 0xf,  0x1010101, 0x208208]:\n",
    "            while mask < bound:\n",
    "                if mask & bitboard == mask:\n",
    "                    return True\n",
    "                mask <<= 1\n",
    "        return False\n",
    "    \n",
    "    cpdef set_col_row(self, col:long, row:long, value:long):\n",
    "        # assert value in [0,1,2]\n",
    "        pos = col * 7 + row\n",
    "        mask = (<long long>1) << pos\n",
    "        neg_mask = ~mask       \n",
    "        if value == 1 or value ==2:\n",
    "            self.data[value-1] |= mask\n",
    "            self.data[2-value] &= neg_mask\n",
    "        else:\n",
    "            self.data[0] &= neg_mask\n",
    "            self.data[1] &= neg_mask\n",
    "            \n",
    "    def __init__(self, data=None, turn=0):\n",
    "        if data is not None:\n",
    "            self.data = data[:]\n",
    "        else:\n",
    "            self.data = [0, 0]\n",
    "        self.turn = turn\n",
    "        \n",
    "    cpdef remove(self, col:long):\n",
    "        shift = col*7\n",
    "        mask = (((self.data[0]|self.data[1]) >> shift) &0x3f) +1\n",
    "        mask = (mask >> 1) << shift\n",
    "        # print(shift, hex(mask), hex(self.data[0]), hex(self.data[1]))\n",
    "        neg_mask = ~mask\n",
    "        self.data[0] &= neg_mask\n",
    "        self.data[1] &= neg_mask\n",
    "    \n",
    "    def _np_branch(self):\n",
    "        c = self.turn%2 # who's turn\n",
    "        base = np.zeros((2,7,6), dtype=floatX)\n",
    "        pos = []\n",
    "        moves = []\n",
    "        red, yellow = self.data\n",
    "        for i in range(7):\n",
    "            mask = ((red|yellow) &0x3f) + 1\n",
    "            p = height[mask]\n",
    "            if p != -1:\n",
    "                moves.append(i)\n",
    "                pos.append(height[mask])\n",
    "            base[c, i] = binary6[red&0x3f]\n",
    "            base[1-c, i] = binary6[yellow&0x3f]\n",
    "            red >>= 7\n",
    "            yellow >>= 7\n",
    "        boards = np.zeros( (len(moves), 2, 7, 6), dtype=floatX)\n",
    "        for i in range(len(moves)):\n",
    "            m = moves[i]\n",
    "            p = pos[i]\n",
    "            boards[i]=base\n",
    "            boards[i, 0, m, p] = 1\n",
    "        return moves, boards\n",
    "            \n",
    "        \n",
    "    cpdef move(self, col:long, test=False):\n",
    "        # assert 0<= col <7\n",
    "        shift = col*7\n",
    "        mask = (((self.data[0]|self.data[1]) >> shift) &0x3f) +1\n",
    "        # print(\"mask=\", mask)\n",
    "        if mask >= 64:\n",
    "            return None\n",
    "        if not test:\n",
    "            self.data[self.turn%2] |= (mask<<shift)\n",
    "            self.turn += 1\n",
    "        return self\n",
    "    \n",
    "    def board_data(self):\n",
    "        for i in range(7):\n",
    "            for j in range(6):\n",
    "                c = self.get_col_row(i,j)\n",
    "                if c!=0:\n",
    "                    yield i,j,c\n",
    "                    \n",
    "    def _repr_html_(self):\n",
    "        def pos(i):\n",
    "            return int(7+(220-6.5)*i/8)\n",
    "        imgstr = \"<img src='img/%s.png' width='23px' height='23px' style='position: absolute; top: %spx; left: %spx;margin-top: 0;z-index: %d' />\"\n",
    "        header = \"\"\"<div style=\"width: 200px; height:180px;position: relative;background: blue\">\"\"\"\n",
    "        header += \"\\n\".join(imgstr%('empty', pos(5-j), pos(i), 0) for i in range(7) for j in range(6))\n",
    "        return header +\"\\n\".join(imgstr%('red_coin' if c==1 else 'yellow_coin', pos(5-j), pos(i), 2) for (i,j,c) in self.board_data()) +\"</div>\"\n",
    "    \n",
    "    def display(self):\n",
    "        display(HTML(self._repr_html_()))\n",
    "    \n",
    "    def __repr__(self):\n",
    "        row_str = lambda j: \"\".join(\".ox\"[self.get_col_row(i,j)] for i in range(7))\n",
    "        return \"\\n\".join(row_str(j) for j in range(5,-1,-1))\n",
    "\n",
    "from random import randint\n",
    "def random_play(init_data=None, init_turn=0, display=False):\n",
    "    game = Connect4(init_data, init_turn)\n",
    "    while game.turn < 42 and not game.is_end():\n",
    "        while game.move(randint(0,6)) is None:\n",
    "            continue\n",
    "    if display:\n",
    "        game.display()\n",
    "    if game.is_end():\n",
    "        return game.turn\n",
    "    return 0"
   ]
  },
  {
   "cell_type": "code",
   "execution_count": 5,
   "metadata": {
    "collapsed": false
   },
   "outputs": [],
   "source": [
    "def MC_agent(_game, N=500):\n",
    "    score = [-1.0*N]*7\n",
    "    for i in range(7):\n",
    "        game = Connect4(_game.data, _game.turn)\n",
    "        if game.move(i):\n",
    "            if game.is_end():\n",
    "                return i\n",
    "            s = 0\n",
    "            for j in range(N):\n",
    "                #print(\"move\", i, \"case\", j)\n",
    "                r = random_play(game.data, game.turn)\n",
    "                turn = (r-1)%2\n",
    "                if r == 0:\n",
    "                    pass\n",
    "                elif  (r-1)%2 == _game.turn%2:\n",
    "                    s += 0.95** (r-_game.turn-1)\n",
    "                else:\n",
    "                    s -= .95** (r-_game.turn-1)\n",
    "            score[i] = s/N\n",
    "    return max(zip(score, range(7)))[1]"
   ]
  },
  {
   "cell_type": "code",
   "execution_count": 6,
   "metadata": {
    "collapsed": true
   },
   "outputs": [],
   "source": [
    "def random_vs_MC(init_data=None, init_turn=0, display=False):\n",
    "    game = Connect4(init_data, init_turn)\n",
    "    while game.turn < 42 and not game.is_end():\n",
    "        if game.turn%2 == 0:\n",
    "            while game.move(randint(0,6)) is None:\n",
    "                continue\n",
    "        else:\n",
    "            i = MC_agent(game)\n",
    "            game.move(i)\n",
    "        if display == 'all':\n",
    "            game.display()\n",
    "    if display:\n",
    "        game.display()\n",
    "    if game.is_end():\n",
    "        return game.turn\n",
    "    return 0"
   ]
  },
  {
   "cell_type": "code",
   "execution_count": 7,
   "metadata": {
    "collapsed": false
   },
   "outputs": [],
   "source": [
    "input_var = T.tensor4('inputs')\n",
    "target_var = T.vector('targets')\n",
    "l_in = lasagne.layers.InputLayer(shape=(None, 2, 7, 6), input_var=input_var)\n",
    "#l_in_drop = lasagne.layers.DropoutLayer(l_in, p=0.2)\n",
    "l_hidden = lasagne.layers.DenseLayer(l_in, num_units=400, nonlinearity=lasagne.nonlinearities.tanh, W=lasagne.init.GlorotUniform())\n",
    "#l_hidden_drop = lasagne.layers.DropoutLayer(l_hidden, p=0.5)\n",
    "l_out = lasagne.layers.DenseLayer(l_hidden, num_units=1, nonlinearity=lasagne.nonlinearities.tanh, W=lasagne.init.GlorotUniform())\n",
    "\n",
    "prediction = lasagne.layers.get_output(l_out).flatten()\n",
    "V = theano.function([input_var], prediction)\n",
    "#loss = lasagne.objectives.binary_crossentropy(prediction, target_var)\n",
    "loss = lasagne.objectives.squared_error(prediction, target_var)\n",
    "\n",
    "loss = loss.mean()\n",
    "\n",
    "params = lasagne.layers.get_all_params(l_out, trainable=True)\n",
    "#updates = lasagne.updates.nesterov_momentum(loss, params, learning_rate=0.01, momentum=0.9)\n",
    "updates = lasagne.updates.adam(loss, params)\n",
    "train_fn = theano.function([input_var, target_var], loss, updates=updates)\n",
    "test_prediction = lasagne.layers.get_output(l_out, deterministic=True).flatten()\n",
    "prediction_fn = theano.function([input_var], T.gt(test_prediction, 0.))"
   ]
  },
  {
   "cell_type": "code",
   "execution_count": 8,
   "metadata": {
    "collapsed": false
   },
   "outputs": [],
   "source": [
    "from random import random, randint\n"
   ]
  },
  {
   "cell_type": "code",
   "execution_count": 9,
   "metadata": {
    "collapsed": true
   },
   "outputs": [],
   "source": [
    "def random_vs_NN(init_data=None, init_turn=0, display=False, random_side=0):\n",
    "    game = Connect4(init_data, init_turn)\n",
    "    while game.turn < 42 and not game.is_end():\n",
    "        if game.turn%2 == random_side:\n",
    "            while game.move(randint(0,6)) is None:\n",
    "                continue\n",
    "        else:\n",
    "            moves, boards = game._np_branch()\n",
    "            idx = np.argmax(V(boards))\n",
    "            game.move(moves[idx])\n",
    "        if display == 'all':\n",
    "            game.display()\n",
    "    if display:\n",
    "        game.display()\n",
    "    if game.is_end():\n",
    "        return game.turn\n",
    "    return 0"
   ]
  },
  {
   "cell_type": "code",
   "execution_count": 12,
   "metadata": {
    "collapsed": false
   },
   "outputs": [],
   "source": [
    "def test_random(random_side, ngames=1000):\n",
    "    result = [0,0,0]\n",
    "    for i in range(ngames):\n",
    "        r = random_vs_NN(random_side=random_side)\n",
    "        if r == 0:\n",
    "            result[0]+=1\n",
    "        else:\n",
    "            result[1 + (r-1)%2]+=1\n",
    "    return result\n",
    "\n",
    "    "
   ]
  },
  {
   "cell_type": "code",
   "execution_count": 11,
   "metadata": {
    "collapsed": false
   },
   "outputs": [
    {
     "name": "stdout",
     "output_type": "stream",
     "text": [
      "game #3000 avgloss=0.473511, rand vs nn: [1, 179, 820], nn vs rand [0, 911, 89]\n",
      "game #6000 avgloss=0.447365, rand vs nn: [0, 139, 861], nn vs rand [0, 906, 94]\n",
      "game #9000 avgloss=0.430961, rand vs nn: [0, 178, 822], nn vs rand [1, 875, 124]\n",
      "game #12000 avgloss=0.413101, rand vs nn: [1, 168, 831], nn vs rand [0, 884, 116]\n",
      "game #15000 avgloss=0.415886, rand vs nn: [0, 140, 860], nn vs rand [0, 927, 73]\n",
      "game #18000 avgloss=0.400588, rand vs nn: [0, 193, 807], nn vs rand [0, 879, 121]\n",
      "game #21000 avgloss=0.355718, rand vs nn: [0, 163, 837], nn vs rand [0, 924, 76]\n",
      "game #24000 avgloss=0.413263, rand vs nn: [0, 140, 860], nn vs rand [0, 923, 77]\n",
      "game #27000 avgloss=0.394454, rand vs nn: [0, 200, 800], nn vs rand [0, 902, 98]\n",
      "game #30000 avgloss=0.387902, rand vs nn: [0, 134, 866], nn vs rand [0, 923, 77]\n",
      "game #33000 avgloss=0.407715, rand vs nn: [0, 158, 842], nn vs rand [1, 935, 64]\n",
      "game #36000 avgloss=0.388903, rand vs nn: [0, 177, 823], nn vs rand [0, 867, 133]\n",
      "game #39000 avgloss=0.406798, rand vs nn: [0, 185, 815], nn vs rand [0, 897, 103]\n",
      "game #42000 avgloss=0.390966, rand vs nn: [0, 140, 860], nn vs rand [0, 922, 78]\n",
      "game #45000 avgloss=0.407002, rand vs nn: [0, 186, 814], nn vs rand [0, 911, 89]\n",
      "game #48000 avgloss=0.400039, rand vs nn: [0, 173, 827], nn vs rand [0, 898, 102]\n",
      "game #51000 avgloss=0.396103, rand vs nn: [0, 194, 806], nn vs rand [2, 888, 110]\n",
      "game #54000 avgloss=0.376522, rand vs nn: [0, 128, 872], nn vs rand [0, 949, 51]\n",
      "game #57000 avgloss=0.404965, rand vs nn: [0, 153, 847], nn vs rand [0, 880, 120]\n",
      "game #60000 avgloss=0.329412, rand vs nn: [0, 113, 887], nn vs rand [0, 912, 88]\n",
      "final result: rand vs nn: [0, 113, 887], nn vs rand [0, 923, 77]\n",
      "1 loops, best of 1: 8min 24s per loop\n"
     ]
    }
   ],
   "source": [
    "%%timeit -n 1 -r 1\n",
    "def run_game(V, verbose = False, epsilon=0.1, lmbd=0.95):\n",
    "    game = Connect4()\n",
    "    history=[]\n",
    "    runtime_V=[]\n",
    "    while game.turn < 42 and not game.is_end():\n",
    "        s = 1 if game.turn%2 == 0 else -1\n",
    "        moves, boards = game._np_branch()\n",
    "        #print(boards)\n",
    "        if random() < epsilon:\n",
    "            idx = randint(0, len(moves)-1)\n",
    "            values=[None]*len(moves)\n",
    "        else:\n",
    "            values = V(boards)\n",
    "            idx = np.argmax(values)\n",
    "        m = moves[idx]\n",
    "        game.move(m)\n",
    "        history.append(boards[idx])\n",
    "        runtime_V.append(values[idx])\n",
    "    if game.is_end():\n",
    "        result = 1.\n",
    "    else:\n",
    "        result = 0. # Tie\n",
    "    # train here\n",
    "    #game.display()\n",
    "    estimate_V = np.zeros(len(history), dtype=floatX)\n",
    "    r = result\n",
    "    for i in range(len(history)-1, -1, -1):\n",
    "        estimate_V[i]=r\n",
    "        r *= -lmbd\n",
    "    loss = train_fn(np.array(history, dtype=floatX), estimate_V)\n",
    "    #print(\"loss\", loss)\n",
    "    #print(\"estimate_V\", estimate_V)\n",
    "    #print(\"runtime_V\", runtime_V)\n",
    "    return loss\n",
    "total_loss = 0\n",
    "N = 3000\n",
    "for i in range(60000):\n",
    "    total_loss += run_game(V)\n",
    "    if i%N==N-1:\n",
    "        print(\"game #%d avgloss=%f, rand vs nn: %s, nn vs rand %s\"%(i+1, total_loss/N, test_random(0), test_random(1)) )\n",
    "        total_loss = 0\n",
    "print(\"final result: rand vs nn: %s, nn vs rand %s\"%(test_random(0, 10000), test_random(1, 10000)) )"
   ]
  },
  {
   "cell_type": "code",
   "execution_count": 13,
   "metadata": {
    "collapsed": false
   },
   "outputs": [
    {
     "name": "stdout",
     "output_type": "stream",
     "text": [
      "final result: rand vs nn: [1, 1233, 8766], nn vs rand [0, 9173, 827]\n"
     ]
    }
   ],
   "source": [
    "print(\"final result: rand vs nn: %s, nn vs rand %s\"%(test_random(0, 10000), test_random(1, 10000)) )"
   ]
  }
 ],
 "metadata": {
  "kernelspec": {
   "display_name": "Python 3",
   "language": "python",
   "name": "python3"
  },
  "language_info": {
   "codemirror_mode": {
    "name": "ipython",
    "version": 3
   },
   "file_extension": ".py",
   "mimetype": "text/x-python",
   "name": "python",
   "nbconvert_exporter": "python",
   "pygments_lexer": "ipython3",
   "version": "3.4.3"
  }
 },
 "nbformat": 4,
 "nbformat_minor": 0
}
