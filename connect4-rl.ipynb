{
 "cells": [
  {
   "cell_type": "code",
   "execution_count": 4,
   "metadata": {
    "collapsed": true
   },
   "outputs": [],
   "source": [
    "from IPython.display import HTML, display"
   ]
  },
  {
   "cell_type": "code",
   "execution_count": 5,
   "metadata": {
    "collapsed": true
   },
   "outputs": [],
   "source": [
    "%load_ext Cython"
   ]
  },
  {
   "cell_type": "code",
   "execution_count": 6,
   "metadata": {
    "collapsed": false
   },
   "outputs": [
    {
     "name": "stderr",
     "output_type": "stream",
     "text": [
      "/usr/local/lib/python3.4/dist-packages/IPython/utils/path.py:264: UserWarning: get_ipython_cache_dir has moved to the IPython.paths module\n",
      "  warn(\"get_ipython_cache_dir has moved to the IPython.paths module\")\n"
     ]
    }
   ],
   "source": [
    "%%cython\n",
    "# cython: infer_types=True, annotation_typing=True\n",
    "## cython: infer_types.verbose=True \n",
    "from IPython.display import HTML, display\n",
    "cdef class Connect4:\n",
    "    cdef public:\n",
    "        long turn\n",
    "        long long[2] data\n",
    "    cpdef long get_col_row(self, col: long, row: long):\n",
    "        cdef long long mask\n",
    "        pos = col * 7 + row\n",
    "        mask = (<long long>1) << pos \n",
    "        if self.data[1] & mask:\n",
    "            return 2\n",
    "        return bool(self.data[0] & mask)\n",
    "    \n",
    "    cpdef long is_end(self):\n",
    "        cdef long long bitboard, bound, mask\n",
    "        bitboard = self.data[1-self.turn%2]\n",
    "        bound = (<long long>1)<<48 # 49 = 7*(6+1)  \n",
    "        # horizontal: 0x204081 = 1|(1<<7)|(1<<14)|(1<<21)\n",
    "        # vertical: 0xf = 1|(1<<1)|(1<<2)|(1<<3)\n",
    "        # up-right: 0x1010101 = 1|(1<<8)|(1<<16)|(1<<24)\n",
    "        # down-right: 0x208208 = (1<<3)|(1<<9)|(1<<15)|(1<<21)\n",
    "        for mask in [0x204081, 0xf,  0x1010101, 0x208208]:\n",
    "            while mask < bound:\n",
    "                if mask & bitboard == mask:\n",
    "                    return True\n",
    "                mask <<= 1\n",
    "        return False\n",
    "    \n",
    "    cpdef set_col_row(self, col:long, row:long, value:long):\n",
    "        # assert value in [0,1,2]\n",
    "        pos = col * 7 + row\n",
    "        mask = (<long long>1) << pos\n",
    "        neg_mask = ~mask       \n",
    "        if value == 1 or value ==2:\n",
    "            self.data[value-1] |= mask\n",
    "            self.data[2-value] &= neg_mask\n",
    "        else:\n",
    "            self.data[0] &= neg_mask\n",
    "            self.data[1] &= neg_mask\n",
    "            \n",
    "    def __init__(self, data=None, turn=0):\n",
    "        if data is not None:\n",
    "            self.data = data[:]\n",
    "        else:\n",
    "            self.data = [0, 0]\n",
    "        self.turn = turn\n",
    "        \n",
    "    cpdef remove(self, col:long):\n",
    "        shift = col*7\n",
    "        mask = (((self.data[0]|self.data[1]) >> shift) &0x3f) +1\n",
    "        mask = (mask >> 1) << shift\n",
    "        # print(shift, hex(mask), hex(self.data[0]), hex(self.data[1]))\n",
    "        neg_mask = ~mask\n",
    "        self.data[0] &= neg_mask\n",
    "        self.data[1] &= neg_mask\n",
    "        \n",
    "    cpdef move(self, col:long, test=False):\n",
    "        # assert 0<= col <7\n",
    "        shift = col*7\n",
    "        mask = (((self.data[0]|self.data[1]) >> shift) &0x3f) +1\n",
    "        # print(\"mask=\", mask)\n",
    "        if mask >= 64:\n",
    "            return None\n",
    "        if not test:\n",
    "            self.data[self.turn%2] |= (mask<<shift)\n",
    "            self.turn += 1\n",
    "        return self\n",
    "    \n",
    "    def board_data(self):\n",
    "        for i in range(7):\n",
    "            for j in range(6):\n",
    "                c = self.get_col_row(i,j)\n",
    "                if c!=0:\n",
    "                    yield i,j,c\n",
    "                    \n",
    "    def _repr_html_(self):\n",
    "        def pos(i):\n",
    "            return int(7+(220-6.5)*i/8)\n",
    "        imgstr = \"<img src='img/%s.png' width='23px' height='23px' style='position: absolute; top: %spx; left: %spx;margin-top: 0;z-index: %d' />\"\n",
    "        header = \"\"\"<div style=\"width: 200px; height:180px;position: relative;background: blue\">\"\"\"\n",
    "        header += \"\\n\".join(imgstr%('empty', pos(5-j), pos(i), 0) for i in range(7) for j in range(6))\n",
    "        return header +\"\\n\".join(imgstr%('red_coin' if c==1 else 'yellow_coin', pos(5-j), pos(i), 2) for (i,j,c) in self.board_data()) +\"</div>\"\n",
    "    \n",
    "    def display(self):\n",
    "        display(HTML(self._repr_html_()))\n",
    "    \n",
    "    def __repr__(self):\n",
    "        row_str = lambda j: \"\".join(\".ox\"[self.get_col_row(i,j)] for i in range(7))\n",
    "        return \"\\n\".join(row_str(j) for j in range(5,-1,-1))\n",
    "\n",
    "from random import randint\n",
    "def random_play(init_data=None, init_turn=0, display=False):\n",
    "    game = Connect4(init_data, init_turn)\n",
    "    while game.turn < 42 and not game.is_end():\n",
    "        while game.move(randint(0,6)) is None:\n",
    "            continue\n",
    "    if display:\n",
    "        game.display()\n",
    "    if game.is_end():\n",
    "        return game.turn\n",
    "    return 0"
   ]
  },
  {
   "cell_type": "code",
   "execution_count": 7,
   "metadata": {
    "collapsed": false
   },
   "outputs": [],
   "source": [
    "def MC_agent(_game, N=500):\n",
    "    score = [-1.0*N]*7\n",
    "    for i in range(7):\n",
    "        game = Connect4(_game.data, _game.turn)\n",
    "        if game.move(i):\n",
    "            if game.is_end():\n",
    "                return i\n",
    "            s = 0\n",
    "            for j in range(N):\n",
    "                #print(\"move\", i, \"case\", j)\n",
    "                r = random_play(game.data, game.turn)\n",
    "                turn = (r-1)%2\n",
    "                if r == 0:\n",
    "                    pass\n",
    "                elif  (r-1)%2 == _game.turn%2:\n",
    "                    s += 0.95** (r-_game.turn-1)\n",
    "                else:\n",
    "                    s -= .95** (r-_game.turn-1)\n",
    "            score[i] = s/N\n",
    "    return max(zip(score, range(7)))[1]"
   ]
  },
  {
   "cell_type": "code",
   "execution_count": 8,
   "metadata": {
    "collapsed": true
   },
   "outputs": [],
   "source": [
    "def random_vs_MC(init_data=None, init_turn=0, display=False):\n",
    "    game = Connect4(init_data, init_turn)\n",
    "    while game.turn < 42 and not game.is_end():\n",
    "        if game.turn%2 == 0:\n",
    "            while game.move(randint(0,6)) is None:\n",
    "                continue\n",
    "        else:\n",
    "            i = MC_agent(game)\n",
    "            game.move(i)\n",
    "        if display == 'all':\n",
    "            game.display()\n",
    "    if display:\n",
    "        game.display()\n",
    "    if game.is_end():\n",
    "        return game.turn\n",
    "    return 0"
   ]
  },
  {
   "cell_type": "code",
   "execution_count": 9,
   "metadata": {
    "collapsed": true
   },
   "outputs": [],
   "source": [
    "from random import choice, random, shuffle\n",
    "Q=[None]*2**18\n",
    "reg = lambda x: 1. if x is None else -x"
   ]
  },
  {
   "cell_type": "code",
   "execution_count": null,
   "metadata": {
    "collapsed": true
   },
   "outputs": [],
   "source": [
    "def run_game(Q, V, verbose = False, epsilon=0.1, lmbd=0.95):\n",
    "    game = Connect4()\n",
    "    history=[]\n",
    "    while game.turn < 42 and not game.is_end():\n",
    "        s = 1 if game.turn%2 == 0 else -1\n",
    "        moves = [i for i in range(7) if game.move(i, test=True)]\n",
    "        if random() < epsilon:\n",
    "            m = choice(moves)\n",
    "        else:\n",
    "            values = [s*Q(game, i) for i in moves]\n",
    "            m = max(zip(values,moves))[1]\n",
    "        game.move(m)\n",
    "        history.append(tuple(game.data))\n",
    "    if game.is_end():\n",
    "        result = 1 if (game.turn-1)%2 == 0 else -1\n",
    "    else:\n",
    "        result = 0 # Tie\n",
    "    # train here\n",
    "    estimate_V = [0.]*len(history)\n",
    "    r = result*1.0\n",
    "    for i in range(len(history)-1, -1):\n",
    "        estimate_V[i]=r\n",
    "        r *= lmbd\n",
    "        \n",
    "for i in range(100):\n",
    "    run_game(Game())\n",
    "run_game(Game(), True)"
   ]
  },
  {
   "cell_type": "code",
   "execution_count": 10,
   "metadata": {
    "collapsed": true
   },
   "outputs": [],
   "source": [
    "import numpy as np\n",
    "import theano\n",
    "import theano.tensor as T\n",
    "\n",
    "import lasagne"
   ]
  },
  {
   "cell_type": "code",
   "execution_count": null,
   "metadata": {
    "collapsed": true
   },
   "outputs": [],
   "source": [
    "input_var = T.tensor4('inputs')\n",
    "target_var = T.ivector('targets')\n",
    "l_in = lasagne.layers.InputLayer(shape=(None, 2, 6, 7), input_var=input_var)\n",
    "\n",
    "l_out = lasagne.layers.DenseLayer(l_in, num_units=1, nonlinearity=lasagne.nonlinearities.tanh, W=lasagne.init.GlorotUniform())\n",
    "\n",
    "target_var = T.scalar()\n",
    "\n",
    "prediction = lasagne.layers.get_output(l_out)\n",
    "loss = lasagne.objectives.categorical_crossentropy(prediction, target_var)\n",
    "loss = loss.mean()"
   ]
  },
  {
   "cell_type": "code",
   "execution_count": 11,
   "metadata": {
    "collapsed": false
   },
   "outputs": [
    {
     "ename": "NameError",
     "evalue": "name 'l_out' is not defined",
     "output_type": "error",
     "traceback": [
      "\u001b[1;31m---------------------------------------------------------------------------\u001b[0m",
      "\u001b[1;31mNameError\u001b[0m                                 Traceback (most recent call last)",
      "\u001b[1;32m<ipython-input-11-8cce8af6038d>\u001b[0m in \u001b[0;36m<module>\u001b[1;34m()\u001b[0m\n\u001b[1;32m----> 1\u001b[1;33m \u001b[0ml_out\u001b[0m\u001b[1;33m\u001b[0m\u001b[0m\n\u001b[0m",
      "\u001b[1;31mNameError\u001b[0m: name 'l_out' is not defined"
     ]
    }
   ],
   "source": [
    "l_out"
   ]
  }
 ],
 "metadata": {
  "kernelspec": {
   "display_name": "Python 3",
   "language": "python",
   "name": "python3"
  },
  "language_info": {
   "codemirror_mode": {
    "name": "ipython",
    "version": 3
   },
   "file_extension": ".py",
   "mimetype": "text/x-python",
   "name": "python",
   "nbconvert_exporter": "python",
   "pygments_lexer": "ipython3",
   "version": "3.4.3"
  }
 },
 "nbformat": 4,
 "nbformat_minor": 0
}
