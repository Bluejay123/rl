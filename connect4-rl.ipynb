{
 "cells": [
  {
   "cell_type": "code",
   "execution_count": 1,
   "metadata": {
    "collapsed": false
   },
   "outputs": [
    {
     "name": "stderr",
     "output_type": "stream",
     "text": [
      "WARNING (theano.gof.compilelock): Overriding existing lock by dead process '2175' (I am process '5457')\n",
      "WARNING:theano.gof.compilelock:Overriding existing lock by dead process '2175' (I am process '5457')\n",
      "Using gpu device 0: GeForce GTX 965M (CNMeM is disabled, CuDNN 4007)\n",
      "/usr/local/lib/python3.4/dist-packages/theano/tensor/signal/downsample.py:5: UserWarning: downsample module has been moved to the pool module.\n",
      "  warnings.warn(\"downsample module has been moved to the pool module.\")\n"
     ]
    },
    {
     "name": "stdout",
     "output_type": "stream",
     "text": [
      "Couldn't import dot_parser, loading of dot files will not be possible.\n"
     ]
    },
    {
     "data": {
      "text/plain": [
       "'float32'"
      ]
     },
     "execution_count": 1,
     "metadata": {},
     "output_type": "execute_result"
    }
   ],
   "source": [
    "import numpy as np\n",
    "import theano\n",
    "import theano.tensor as T\n",
    "\n",
    "import lasagne\n",
    "floatX = theano.config.floatX\n",
    "floatX"
   ]
  },
  {
   "cell_type": "code",
   "execution_count": 2,
   "metadata": {
    "collapsed": true
   },
   "outputs": [],
   "source": [
    "from IPython.display import HTML, display"
   ]
  },
  {
   "cell_type": "code",
   "execution_count": 3,
   "metadata": {
    "collapsed": false
   },
   "outputs": [],
   "source": [
    "%load_ext Cython"
   ]
  },
  {
   "cell_type": "code",
   "execution_count": 4,
   "metadata": {
    "collapsed": false
   },
   "outputs": [],
   "source": [
    "%%cython\n",
    "# cython: infer_types=True, annotation_typing=True\n",
    "## cython: infer_types.verbose=True \n",
    "from IPython.display import HTML, display\n",
    "import numpy as np\n",
    "\n",
    "floatX = np.float32\n",
    "\n",
    "binary6 = np.array([ list(map(int,bin(2**6+i)[:2:-1])) for i in range(2**6)], dtype=floatX)\n",
    "height = np.array([-1]*65, dtype=np.int32)\n",
    "for __i in range(6):\n",
    "    height[2**__i]=__i\n",
    "\n",
    "cdef class Connect4:\n",
    "    cdef public:\n",
    "        long turn\n",
    "        long long[2] data\n",
    "    cpdef long get_col_row(self, col: long, row: long):\n",
    "        pos = col * 7 + row\n",
    "        mask = (<long long>1) << pos \n",
    "        if self.data[1] & mask:\n",
    "            return 2\n",
    "        return bool(self.data[0] & mask)\n",
    "    \n",
    "    cpdef long is_end(self):\n",
    "        cdef long long mask\n",
    "        bitboard = self.data[1-self.turn%2]\n",
    "        bound = (<long long>1)<<48 # 49 = 7*(6+1)  \n",
    "        # horizontal: 0x204081 = 1|(1<<7)|(1<<14)|(1<<21)\n",
    "        # vertical: 0xf = 1|(1<<1)|(1<<2)|(1<<3)\n",
    "        # up-right: 0x1010101 = 1|(1<<8)|(1<<16)|(1<<24)\n",
    "        # down-right: 0x208208 = (1<<3)|(1<<9)|(1<<15)|(1<<21)\n",
    "        for mask in [0x204081, 0xf,  0x1010101, 0x208208]:\n",
    "            while mask < bound:\n",
    "                if mask & bitboard == mask:\n",
    "                    return True\n",
    "                mask <<= 1\n",
    "        return False\n",
    "    \n",
    "    cpdef set_col_row(self, col:long, row:long, value:long):\n",
    "        # assert value in [0,1,2]\n",
    "        pos = col * 7 + row\n",
    "        mask = (<long long>1) << pos\n",
    "        neg_mask = ~mask       \n",
    "        if value == 1 or value ==2:\n",
    "            self.data[value-1] |= mask\n",
    "            self.data[2-value] &= neg_mask\n",
    "        else:\n",
    "            self.data[0] &= neg_mask\n",
    "            self.data[1] &= neg_mask\n",
    "            \n",
    "    def __init__(self, data=None, turn=0):\n",
    "        if data is not None:\n",
    "            self.data = data[:]\n",
    "        else:\n",
    "            self.data = [0, 0]\n",
    "        self.turn = turn\n",
    "        \n",
    "    cpdef remove(self, col:long):\n",
    "        shift = col*7\n",
    "        mask = (((self.data[0]|self.data[1]) >> shift) &0x3f) +1\n",
    "        mask = (mask >> 1) << shift\n",
    "        # print(shift, hex(mask), hex(self.data[0]), hex(self.data[1]))\n",
    "        neg_mask = ~mask\n",
    "        self.data[0] &= neg_mask\n",
    "        self.data[1] &= neg_mask\n",
    "    \n",
    "    def _np_branch(self):\n",
    "        c = self.turn%2 # who's turn\n",
    "        base = np.zeros((2,7,6), dtype=floatX)\n",
    "        pos = []\n",
    "        moves = []\n",
    "        red, yellow = self.data\n",
    "        for i in range(7):\n",
    "            mask = ((red|yellow) &0x3f) + 1\n",
    "            p = height[mask]\n",
    "            if p != -1:\n",
    "                moves.append(i)\n",
    "                pos.append(height[mask])\n",
    "            base[c, i] = binary6[red&0x3f]\n",
    "            base[1-c, i] = binary6[yellow&0x3f]\n",
    "            red >>= 7\n",
    "            yellow >>= 7\n",
    "        boards = np.zeros( (len(moves), 2, 7, 6), dtype=floatX)\n",
    "        for i in range(len(moves)):\n",
    "            m = moves[i]\n",
    "            p = pos[i]\n",
    "            boards[i]=base\n",
    "            boards[i, 0, m, p] = 1\n",
    "        return moves, boards\n",
    "    \n",
    "    def _np_board(self):\n",
    "        c = (self.turn-1)%2 # who played\n",
    "        board = np.zeros((2, 7, 6), dtype=floatX)\n",
    "        pos = []\n",
    "        moves = []\n",
    "        red, yellow = self.data\n",
    "        for i in range(7):\n",
    "            mask = ((red|yellow) &0x3f) + 1\n",
    "            p = height[mask]\n",
    "            if p != -1:\n",
    "                moves.append(i)\n",
    "                pos.append(height[mask])\n",
    "            board[c, i] = binary6[red&0x3f]\n",
    "            board[1-c, i] = binary6[yellow&0x3f]\n",
    "            red >>= 7\n",
    "            yellow >>= 7\n",
    "        return board\n",
    "    \n",
    "        \n",
    "    cpdef move(self, col:long, test=False):\n",
    "        # assert 0<= col <7\n",
    "        shift = col*7\n",
    "        mask = (((self.data[0]|self.data[1]) >> shift) &0x3f) +1\n",
    "        # print(\"mask=\", mask)\n",
    "        if mask >= 64:\n",
    "            return None\n",
    "        if not test:\n",
    "            self.data[self.turn%2] |= (mask<<shift)\n",
    "            self.turn += 1\n",
    "        return self\n",
    "    \n",
    "    def board_data(self):\n",
    "        for i in range(7):\n",
    "            for j in range(6):\n",
    "                c = self.get_col_row(i,j)\n",
    "                if c!=0:\n",
    "                    yield i,j,c\n",
    "                    \n",
    "    def _repr_html_(self):\n",
    "        def pos(i):\n",
    "            return int(7+(220-6.5)*i/8)\n",
    "        imgstr = \"<img src='img/%s.png' width='23px' height='23px' style='position: absolute; top: %spx; left: %spx;margin-top: 0;z-index: %d' />\"\n",
    "        header = \"\"\"<div style=\"width: 200px; height:180px;position: relative;background: blue\">\"\"\"\n",
    "        header += \"\\n\".join(imgstr%('empty', pos(5-j), pos(i), 0) for i in range(7) for j in range(6))\n",
    "        return header +\"\\n\".join(imgstr%('red_coin' if c==1 else 'yellow_coin', pos(5-j), pos(i), 2) for (i,j,c) in self.board_data()) +\"</div>\"\n",
    "    \n",
    "    def display(self):\n",
    "        display(HTML(self._repr_html_()))\n",
    "    \n",
    "    def __repr__(self):\n",
    "        row_str = lambda j: \"\".join(\".ox\"[self.get_col_row(i,j)] for i in range(7))\n",
    "        return \"\\n\".join(row_str(j) for j in range(5,-1,-1))\n",
    "\n",
    "from random import randint\n",
    "def random_play(init_data=None, init_turn=0, display=False):\n",
    "    game = Connect4(init_data, init_turn)\n",
    "    while game.turn < 42 and not game.is_end():\n",
    "        while game.move(randint(0,6)) is None:\n",
    "            continue\n",
    "    if display:\n",
    "        game.display()\n",
    "    if game.is_end():\n",
    "        return game.turn\n",
    "    return 0"
   ]
  },
  {
   "cell_type": "code",
   "execution_count": 5,
   "metadata": {
    "collapsed": false
   },
   "outputs": [],
   "source": [
    "def MC_agent(_game, N=200):\n",
    "    score = [-1.0*N]*7\n",
    "    for i in range(7):\n",
    "        game = Connect4(_game.data, _game.turn)\n",
    "        if game.move(i):\n",
    "            if game.is_end():\n",
    "                return i\n",
    "            s = 0\n",
    "            for j in range(N):\n",
    "                #print(\"move\", i, \"case\", j)\n",
    "                r = random_play(game.data, game.turn)\n",
    "                turn = (r-1)%2\n",
    "                if r == 0:\n",
    "                    pass\n",
    "                elif  (r-1)%2 == _game.turn%2:\n",
    "                    s += 0.95** (r-_game.turn-1)\n",
    "                else:\n",
    "                    s -= .95** (r-_game.turn-1)\n",
    "            score[i] = s/N\n",
    "    return max(zip(score, range(7)))[1]"
   ]
  },
  {
   "cell_type": "code",
   "execution_count": 6,
   "metadata": {
    "collapsed": true
   },
   "outputs": [],
   "source": [
    "def random_vs_MC(init_data=None, init_turn=0, display=False):\n",
    "    game = Connect4(init_data, init_turn)\n",
    "    while game.turn < 42 and not game.is_end():\n",
    "        if game.turn%2 == 0:\n",
    "            while game.move(randint(0,6)) is None:\n",
    "                continue\n",
    "        else:\n",
    "            i = MC_agent(game)\n",
    "            game.move(i)\n",
    "        if display == 'all':\n",
    "            game.display()\n",
    "    if display:\n",
    "        game.display()\n",
    "    if game.is_end():\n",
    "        return game.turn\n",
    "    return 0"
   ]
  },
  {
   "cell_type": "code",
   "execution_count": 7,
   "metadata": {
    "collapsed": false
   },
   "outputs": [],
   "source": [
    "input_var = T.tensor4('inputs')\n",
    "target_var = T.vector('targets')\n",
    "l_in = lasagne.layers.InputLayer(shape=(None, 2, 7, 6), input_var=input_var)\n",
    "#l_in_drop = lasagne.layers.DropoutLayer(l_in, p=0.2)\n",
    "l_hidden = lasagne.layers.DenseLayer(l_in, num_units=400, nonlinearity=lasagne.nonlinearities.tanh, W=lasagne.init.GlorotUniform())\n",
    "l_hidden2_major = lasagne.layers.DenseLayer(l_hidden, num_units=20, nonlinearity=lasagne.nonlinearities.rectify, W=lasagne.init.GlorotUniform())\n",
    "l_hidden2 = lasagne.layers.DenseLayer(l_hidden, num_units=100, nonlinearity=lasagne.nonlinearities.rectify, W=lasagne.init.GlorotUniform())\n",
    "l_hidden2_drop = lasagne.layers.DropoutLayer(l_hidden2, p=0.2)\n",
    "l_hidden2_merge =  lasagne.layers.ConcatLayer([l_hidden2_major, l_hidden2_drop])\n",
    "l_hidden3 = lasagne.layers.DenseLayer(l_hidden2_merge, num_units=20, nonlinearity=lasagne.nonlinearities.rectify, W=lasagne.init.GlorotUniform())\n",
    "l_out = lasagne.layers.DenseLayer(l_hidden3, num_units=1, nonlinearity=lasagne.nonlinearities.tanh, W=lasagne.init.GlorotUniform())\n",
    "\n",
    "prediction = lasagne.layers.get_output(l_out).flatten()\n",
    "V = theano.function([input_var], prediction)\n",
    "#loss = lasagne.objectives.binary_crossentropy(prediction, target_var)\n",
    "loss = lasagne.objectives.squared_error(prediction, target_var)\n",
    "\n",
    "loss = loss.mean()\n",
    "\n",
    "params = lasagne.layers.get_all_params(l_out, trainable=True)\n",
    "#updates = lasagne.updates.nesterov_momentum(loss, params, learning_rate=0.01, momentum=0.9)\n",
    "updates = lasagne.updates.adam(loss, params)\n",
    "train_fn = theano.function([input_var, target_var], loss, updates=updates)\n",
    "test_prediction = lasagne.layers.get_output(l_out, deterministic=True).flatten()\n",
    "prediction_fn = theano.function([input_var], T.gt(test_prediction, 0.))"
   ]
  },
  {
   "cell_type": "code",
   "execution_count": 8,
   "metadata": {
    "collapsed": false
   },
   "outputs": [],
   "source": [
    "from random import random, randint\n"
   ]
  },
  {
   "cell_type": "code",
   "execution_count": 9,
   "metadata": {
    "collapsed": false
   },
   "outputs": [],
   "source": [
    "def player_NN(game):\n",
    "    moves, boards = game._np_branch()\n",
    "    return moves[np.argmax(V(boards))]\n",
    "\n",
    "def player_random(game):\n",
    "    while 1:\n",
    "        r = randint(0,6)\n",
    "        if game.move(r, test=True) is not None:\n",
    "            return r\n",
    "\n",
    "def get_player_MC(N=100):\n",
    "    def player(game):\n",
    "        return MC_agent(game, N=N)\n",
    "    return player\n",
    "\n",
    "def get_player_mixed(*settings):\n",
    "    def player(game):\n",
    "        r = random()\n",
    "        for player, prop in settings:\n",
    "            r-=prop\n",
    "            if r<=0:\n",
    "                return player(game)\n",
    "        return player_random(game)\n",
    "    return player\n",
    "        \n",
    "\n",
    "def vs(player1, player2, display=False):\n",
    "    game = Connect4()\n",
    "    history = []\n",
    "    while game.turn < 42 and not game.is_end():\n",
    "        if game.turn%2 == 0:\n",
    "            m = player1(game)\n",
    "        else:\n",
    "            m = player2(game)\n",
    "        game.move(m)\n",
    "        history.append(m)\n",
    "        if display == 'all':\n",
    "            game.display()\n",
    "    if display:\n",
    "        game.display()\n",
    "    if game.is_end():\n",
    "        return game.turn, history\n",
    "    return 0, history\n",
    "    "
   ]
  },
  {
   "cell_type": "code",
   "execution_count": 10,
   "metadata": {
    "collapsed": false
   },
   "outputs": [],
   "source": [
    "def train_if(results):\n",
    "    def train(r, history, γ=0.95):\n",
    "        _r = -1 if r ==0 else (r-1)%2\n",
    "        if  _r not in results:\n",
    "            return\n",
    "        game = Connect4()\n",
    "        board_history = []\n",
    "        for m in history:\n",
    "            game.move(m)\n",
    "            board_history.append(game._np_board())\n",
    "        estimate_V = np.zeros(len(history), dtype=floatX)\n",
    "        if _r==-1:\n",
    "            r = 0.\n",
    "        else:\n",
    "            r = 1.\n",
    "        for i in range(len(history)-1, -1, -1):\n",
    "            estimate_V[i]=r\n",
    "            r *= -γ\n",
    "        loss = train_fn(np.array(board_history, dtype=floatX), estimate_V)                \n",
    "    return train\n",
    "\n",
    "def vs_test(player1, player2, ngames=1000, train=None):\n",
    "    result = [0,0,0]\n",
    "    for i in range(ngames):\n",
    "        r, history = vs(player1, player2)\n",
    "        if r == 0:\n",
    "            result[0]+=1\n",
    "        else:\n",
    "            result[1 + (r-1)%2]+=1\n",
    "        if train is not None:\n",
    "            train(r, history)\n",
    "    return result\n",
    "\n",
    "    "
   ]
  },
  {
   "cell_type": "code",
   "execution_count": 11,
   "metadata": {
    "collapsed": false
   },
   "outputs": [],
   "source": [
    "train2 = train=train_if([-1,0])\n",
    "train1 = train=train_if([-1,1])\n",
    "train_all = train=train_if([-1,0,1])"
   ]
  },
  {
   "cell_type": "code",
   "execution_count": 12,
   "metadata": {
    "collapsed": false
   },
   "outputs": [
    {
     "name": "stdout",
     "output_type": "stream",
     "text": [
      "train: [23, 3250, 1727]\n",
      "#1 rand vs nn: [5, 321, 674], nn vs rand [0, 811, 189]\n",
      "time: 65.01602268218994\n",
      "train: [31, 2847, 2122]\n",
      "#2 rand vs nn: [1, 242, 757], nn vs rand [1, 863, 136]\n",
      "time: 128.8743371963501\n",
      "train: [85, 3068, 1847]\n",
      "#3 rand vs nn: [4, 270, 726], nn vs rand [0, 880, 120]\n",
      "time: 199.69635367393494\n",
      "train: [81, 3065, 1854]\n",
      "#4 rand vs nn: [0, 155, 845], nn vs rand [1, 913, 86]\n",
      "time: 273.1214475631714\n",
      "train: [118, 3162, 1720]\n",
      "#5 rand vs nn: [1, 127, 872], nn vs rand [0, 938, 62]\n",
      "time: 352.98141264915466\n",
      "train: [194, 3421, 1385]\n",
      "#6 rand vs nn: [0, 196, 804], nn vs rand [1, 876, 123]\n",
      "time: 441.56404161453247\n",
      "train: [124, 3421, 1455]\n",
      "#7 rand vs nn: [0, 80, 920], nn vs rand [0, 959, 41]\n",
      "time: 516.2855095863342\n",
      "train: [125, 3616, 1259]\n",
      "#8 rand vs nn: [1, 136, 863], nn vs rand [0, 954, 46]\n",
      "time: 590.5389266014099\n",
      "train: [137, 3522, 1341]\n",
      "#9 rand vs nn: [0, 81, 919], nn vs rand [0, 984, 16]\n",
      "time: 666.219046831131\n",
      "train: [117, 3446, 1437]\n",
      "#10 midterm rand vs nn: [7, 1353, 8640], nn vs rand [10, 9460, 530]\n",
      "            mc100 vs nn: [2, 93, 5], nn vs mc100 [1, 7, 92]\n"
     ]
    },
    {
     "ename": "NameError",
     "evalue": "name 'c4client' is not defined",
     "output_type": "error",
     "traceback": [
      "\u001b[1;31m---------------------------------------------------------------------------\u001b[0m",
      "\u001b[1;31mNameError\u001b[0m                                 Traceback (most recent call last)",
      "\u001b[1;32m<ipython-input-12-58cdbac39c1c>\u001b[0m in \u001b[0;36m<module>\u001b[1;34m()\u001b[0m\n\u001b[1;32m----> 1\u001b[1;33m \u001b[0mget_ipython\u001b[0m\u001b[1;33m(\u001b[0m\u001b[1;33m)\u001b[0m\u001b[1;33m.\u001b[0m\u001b[0mrun_cell_magic\u001b[0m\u001b[1;33m(\u001b[0m\u001b[1;34m'timeit'\u001b[0m\u001b[1;33m,\u001b[0m \u001b[1;34m'-n 1 -r 1'\u001b[0m\u001b[1;33m,\u001b[0m \u001b[1;34m'import time\\nimport sys\\nstart_time=time.time()\\nplayer = get_player_mixed((player_NN, 0.98))\\n#player=player_NN\\n#player = get_player_MC(100)\\nfor i in range(10):\\n    print(\"train: %s\"%(vs_test(player, player, ngames=5000, train=train_all)) )\\n    #print(\"mc100 vs nn: %s\"%(vs_test(get_player_MC(100), player_NN, ngames=100, train=train_all)) )\\n    #print(\" nn vs mc100 %s\"%(vs_test(player_NN, get_player_MC(100), ngames=100, train=train_all)) )\\n    if i%10 == 9:\\n        print(\"#%d midterm rand vs nn: %s, nn vs rand %s\"%(i+1, \\n                                                                        vs_test(player_random, player_NN, ngames=10000), \\n                                                              vs_test(player_NN, player_random, ngames=10000)))\\n        print(\"            mc100 vs nn: %s, nn vs mc100 %s\"%(vs_test(get_player_MC(100), player_NN, ngames=100), \\n                                                          vs_test(player_NN, get_player_MC(100), ngames=100)) )\\n        server = \"ws://localhost:8001\"\\n        c4client(name=\"tjwmc\", ngames = 1000, against=\"aima\", display=False, server=server)\\n    else:\\n        print(\"#%d rand vs nn: %s, nn vs rand %s\"%(i+1, vs_test(player_random, player_NN, ngames=1000), \\n                                                              vs_test(player_NN, player_random, ngames=1000)) )\\n    print(\"time:\",time.time()-start_time)\\n    sys.stdout.flush()'\u001b[0m\u001b[1;33m)\u001b[0m\u001b[1;33m\u001b[0m\u001b[0m\n\u001b[0m",
      "\u001b[1;32m/usr/local/lib/python3.4/dist-packages/IPython/core/interactiveshell.py\u001b[0m in \u001b[0;36mrun_cell_magic\u001b[1;34m(self, magic_name, line, cell)\u001b[0m\n\u001b[0;32m   2291\u001b[0m             \u001b[0mmagic_arg_s\u001b[0m \u001b[1;33m=\u001b[0m \u001b[0mself\u001b[0m\u001b[1;33m.\u001b[0m\u001b[0mvar_expand\u001b[0m\u001b[1;33m(\u001b[0m\u001b[0mline\u001b[0m\u001b[1;33m,\u001b[0m \u001b[0mstack_depth\u001b[0m\u001b[1;33m)\u001b[0m\u001b[1;33m\u001b[0m\u001b[0m\n\u001b[0;32m   2292\u001b[0m             \u001b[1;32mwith\u001b[0m \u001b[0mself\u001b[0m\u001b[1;33m.\u001b[0m\u001b[0mbuiltin_trap\u001b[0m\u001b[1;33m:\u001b[0m\u001b[1;33m\u001b[0m\u001b[0m\n\u001b[1;32m-> 2293\u001b[1;33m                 \u001b[0mresult\u001b[0m \u001b[1;33m=\u001b[0m \u001b[0mfn\u001b[0m\u001b[1;33m(\u001b[0m\u001b[0mmagic_arg_s\u001b[0m\u001b[1;33m,\u001b[0m \u001b[0mcell\u001b[0m\u001b[1;33m)\u001b[0m\u001b[1;33m\u001b[0m\u001b[0m\n\u001b[0m\u001b[0;32m   2294\u001b[0m             \u001b[1;32mreturn\u001b[0m \u001b[0mresult\u001b[0m\u001b[1;33m\u001b[0m\u001b[0m\n\u001b[0;32m   2295\u001b[0m \u001b[1;33m\u001b[0m\u001b[0m\n",
      "\u001b[1;32m/usr/local/lib/python3.4/dist-packages/IPython/core/magics/execution.py\u001b[0m in \u001b[0;36mtimeit\u001b[1;34m(self, line, cell)\u001b[0m\n",
      "\u001b[1;32m/usr/local/lib/python3.4/dist-packages/IPython/core/magic.py\u001b[0m in \u001b[0;36m<lambda>\u001b[1;34m(f, *a, **k)\u001b[0m\n\u001b[0;32m    191\u001b[0m     \u001b[1;31m# but it's overkill for just that one bit of state.\u001b[0m\u001b[1;33m\u001b[0m\u001b[1;33m\u001b[0m\u001b[0m\n\u001b[0;32m    192\u001b[0m     \u001b[1;32mdef\u001b[0m \u001b[0mmagic_deco\u001b[0m\u001b[1;33m(\u001b[0m\u001b[0marg\u001b[0m\u001b[1;33m)\u001b[0m\u001b[1;33m:\u001b[0m\u001b[1;33m\u001b[0m\u001b[0m\n\u001b[1;32m--> 193\u001b[1;33m         \u001b[0mcall\u001b[0m \u001b[1;33m=\u001b[0m \u001b[1;32mlambda\u001b[0m \u001b[0mf\u001b[0m\u001b[1;33m,\u001b[0m \u001b[1;33m*\u001b[0m\u001b[0ma\u001b[0m\u001b[1;33m,\u001b[0m \u001b[1;33m**\u001b[0m\u001b[0mk\u001b[0m\u001b[1;33m:\u001b[0m \u001b[0mf\u001b[0m\u001b[1;33m(\u001b[0m\u001b[1;33m*\u001b[0m\u001b[0ma\u001b[0m\u001b[1;33m,\u001b[0m \u001b[1;33m**\u001b[0m\u001b[0mk\u001b[0m\u001b[1;33m)\u001b[0m\u001b[1;33m\u001b[0m\u001b[0m\n\u001b[0m\u001b[0;32m    194\u001b[0m \u001b[1;33m\u001b[0m\u001b[0m\n\u001b[0;32m    195\u001b[0m         \u001b[1;32mif\u001b[0m \u001b[0mcallable\u001b[0m\u001b[1;33m(\u001b[0m\u001b[0marg\u001b[0m\u001b[1;33m)\u001b[0m\u001b[1;33m:\u001b[0m\u001b[1;33m\u001b[0m\u001b[0m\n",
      "\u001b[1;32m/usr/local/lib/python3.4/dist-packages/IPython/core/magics/execution.py\u001b[0m in \u001b[0;36mtimeit\u001b[1;34m(self, line, cell)\u001b[0m\n\u001b[0;32m   1040\u001b[0m                     \u001b[1;32mbreak\u001b[0m\u001b[1;33m\u001b[0m\u001b[0m\n\u001b[0;32m   1041\u001b[0m                 \u001b[0mnumber\u001b[0m \u001b[1;33m*=\u001b[0m \u001b[1;36m10\u001b[0m\u001b[1;33m\u001b[0m\u001b[0m\n\u001b[1;32m-> 1042\u001b[1;33m         \u001b[0mall_runs\u001b[0m \u001b[1;33m=\u001b[0m \u001b[0mtimer\u001b[0m\u001b[1;33m.\u001b[0m\u001b[0mrepeat\u001b[0m\u001b[1;33m(\u001b[0m\u001b[0mrepeat\u001b[0m\u001b[1;33m,\u001b[0m \u001b[0mnumber\u001b[0m\u001b[1;33m)\u001b[0m\u001b[1;33m\u001b[0m\u001b[0m\n\u001b[0m\u001b[0;32m   1043\u001b[0m         \u001b[0mbest\u001b[0m \u001b[1;33m=\u001b[0m \u001b[0mmin\u001b[0m\u001b[1;33m(\u001b[0m\u001b[0mall_runs\u001b[0m\u001b[1;33m)\u001b[0m \u001b[1;33m/\u001b[0m \u001b[0mnumber\u001b[0m\u001b[1;33m\u001b[0m\u001b[0m\n\u001b[0;32m   1044\u001b[0m         \u001b[1;32mif\u001b[0m \u001b[1;32mnot\u001b[0m \u001b[0mquiet\u001b[0m \u001b[1;33m:\u001b[0m\u001b[1;33m\u001b[0m\u001b[0m\n",
      "\u001b[1;32m/usr/lib/python3.4/timeit.py\u001b[0m in \u001b[0;36mrepeat\u001b[1;34m(self, repeat, number)\u001b[0m\n\u001b[0;32m    210\u001b[0m         \u001b[0mr\u001b[0m \u001b[1;33m=\u001b[0m \u001b[1;33m[\u001b[0m\u001b[1;33m]\u001b[0m\u001b[1;33m\u001b[0m\u001b[0m\n\u001b[0;32m    211\u001b[0m         \u001b[1;32mfor\u001b[0m \u001b[0mi\u001b[0m \u001b[1;32min\u001b[0m \u001b[0mrange\u001b[0m\u001b[1;33m(\u001b[0m\u001b[0mrepeat\u001b[0m\u001b[1;33m)\u001b[0m\u001b[1;33m:\u001b[0m\u001b[1;33m\u001b[0m\u001b[0m\n\u001b[1;32m--> 212\u001b[1;33m             \u001b[0mt\u001b[0m \u001b[1;33m=\u001b[0m \u001b[0mself\u001b[0m\u001b[1;33m.\u001b[0m\u001b[0mtimeit\u001b[0m\u001b[1;33m(\u001b[0m\u001b[0mnumber\u001b[0m\u001b[1;33m)\u001b[0m\u001b[1;33m\u001b[0m\u001b[0m\n\u001b[0m\u001b[0;32m    213\u001b[0m             \u001b[0mr\u001b[0m\u001b[1;33m.\u001b[0m\u001b[0mappend\u001b[0m\u001b[1;33m(\u001b[0m\u001b[0mt\u001b[0m\u001b[1;33m)\u001b[0m\u001b[1;33m\u001b[0m\u001b[0m\n\u001b[0;32m    214\u001b[0m         \u001b[1;32mreturn\u001b[0m \u001b[0mr\u001b[0m\u001b[1;33m\u001b[0m\u001b[0m\n",
      "\u001b[1;32m/usr/local/lib/python3.4/dist-packages/IPython/core/magics/execution.py\u001b[0m in \u001b[0;36mtimeit\u001b[1;34m(self, number)\u001b[0m\n\u001b[0;32m    131\u001b[0m         \u001b[0mgc\u001b[0m\u001b[1;33m.\u001b[0m\u001b[0mdisable\u001b[0m\u001b[1;33m(\u001b[0m\u001b[1;33m)\u001b[0m\u001b[1;33m\u001b[0m\u001b[0m\n\u001b[0;32m    132\u001b[0m         \u001b[1;32mtry\u001b[0m\u001b[1;33m:\u001b[0m\u001b[1;33m\u001b[0m\u001b[0m\n\u001b[1;32m--> 133\u001b[1;33m             \u001b[0mtiming\u001b[0m \u001b[1;33m=\u001b[0m \u001b[0mself\u001b[0m\u001b[1;33m.\u001b[0m\u001b[0minner\u001b[0m\u001b[1;33m(\u001b[0m\u001b[0mit\u001b[0m\u001b[1;33m,\u001b[0m \u001b[0mself\u001b[0m\u001b[1;33m.\u001b[0m\u001b[0mtimer\u001b[0m\u001b[1;33m)\u001b[0m\u001b[1;33m\u001b[0m\u001b[0m\n\u001b[0m\u001b[0;32m    134\u001b[0m         \u001b[1;32mfinally\u001b[0m\u001b[1;33m:\u001b[0m\u001b[1;33m\u001b[0m\u001b[0m\n\u001b[0;32m    135\u001b[0m             \u001b[1;32mif\u001b[0m \u001b[0mgcold\u001b[0m\u001b[1;33m:\u001b[0m\u001b[1;33m\u001b[0m\u001b[0m\n",
      "\u001b[1;32m<magic-timeit>\u001b[0m in \u001b[0;36minner\u001b[1;34m(_it, _timer)\u001b[0m\n",
      "\u001b[1;31mNameError\u001b[0m: name 'c4client' is not defined"
     ]
    }
   ],
   "source": [
    "%%timeit -n 1 -r 1\n",
    "import time\n",
    "import sys\n",
    "start_time=time.time()\n",
    "player = get_player_mixed((player_NN, 0.98))\n",
    "#player=player_NN\n",
    "#player = get_player_MC(100)\n",
    "for i in range(10):\n",
    "    print(\"train: %s\"%(vs_test(player, player, ngames=5000, train=train_all)) )\n",
    "    #print(\"mc100 vs nn: %s\"%(vs_test(get_player_MC(100), player_NN, ngames=100, train=train_all)) )\n",
    "    #print(\" nn vs mc100 %s\"%(vs_test(player_NN, get_player_MC(100), ngames=100, train=train_all)) )\n",
    "    if i%10 == 9:\n",
    "        print(\"#%d midterm rand vs nn: %s, nn vs rand %s\"%(i+1, \n",
    "                                                                        vs_test(player_random, player_NN, ngames=10000), \n",
    "                                                              vs_test(player_NN, player_random, ngames=10000)))\n",
    "        print(\"            mc100 vs nn: %s, nn vs mc100 %s\"%(vs_test(get_player_MC(100), player_NN, ngames=100), \n",
    "                                                          vs_test(player_NN, get_player_MC(100), ngames=100)) )\n",
    "        server = \"ws://localhost:8001\"\n",
    "        c4client(name=\"tjwmc\", ngames = 1000, against=\"aima\", display=False, server=server)\n",
    "    else:\n",
    "        print(\"#%d rand vs nn: %s, nn vs rand %s\"%(i+1, vs_test(player_random, player_NN, ngames=1000), \n",
    "                                                              vs_test(player_NN, player_random, ngames=1000)) )\n",
    "    print(\"time:\",time.time()-start_time)\n",
    "    sys.stdout.flush()"
   ]
  },
  {
   "cell_type": "code",
   "execution_count": 12,
   "metadata": {
    "collapsed": false
   },
   "outputs": [
    {
     "ename": "KeyboardInterrupt",
     "evalue": "",
     "output_type": "error",
     "traceback": [
      "\u001b[1;31m---------------------------------------------------------------------------\u001b[0m",
      "\u001b[1;31mKeyboardInterrupt\u001b[0m                         Traceback (most recent call last)",
      "\u001b[1;32m<ipython-input-12-e45382feae62>\u001b[0m in \u001b[0;36m<module>\u001b[1;34m()\u001b[0m\n\u001b[1;32m----> 1\u001b[1;33m \u001b[0mget_ipython\u001b[0m\u001b[1;33m(\u001b[0m\u001b[1;33m)\u001b[0m\u001b[1;33m.\u001b[0m\u001b[0mrun_cell_magic\u001b[0m\u001b[1;33m(\u001b[0m\u001b[1;34m'timeit'\u001b[0m\u001b[1;33m,\u001b[0m \u001b[1;34m'-n 1 -r 1'\u001b[0m\u001b[1;33m,\u001b[0m \u001b[1;34m'import time\\nimport sys\\nstart_time=time.time()\\ndef run_game(V, verbose = False, ɛ=0.1, γ=0.95):\\n    game = Connect4()\\n    history=[]\\n    runtime_V=[]\\n    while game.turn < 42 and not game.is_end():\\n        s = 1 if game.turn%2 == 0 else -1\\n        moves, boards = game._np_branch()\\n        #print(boards)\\n        if random() < ɛ:\\n            idx = randint(0, len(moves)-1)\\n            values=[None]*len(moves)\\n        else:\\n            values = V(boards)\\n            idx = np.argmax(values)\\n        m = moves[idx]\\n        game.move(m)\\n        history.append(boards[idx])\\n        runtime_V.append(values[idx])\\n    if game.is_end():\\n        result = 1.\\n    else:\\n        result = 0. # Tie\\n    # train here\\n    #game.display()\\n    estimate_V = np.zeros(len(history), dtype=floatX)\\n    r = result\\n    for i in range(len(history)-1, -1, -1):\\n        estimate_V[i]=r\\n        r *= -γ\\n    loss = train_fn(np.array(history, dtype=floatX), estimate_V)\\n    return loss\\ntotal_loss = 0\\nN = 5000\\nprint(\"inital result: rand vs nn: %s, nn vs rand %s\"%(vs_test(player_random, player_NN, ngames=10000), \\n                                                      vs_test(player_NN, player_random, ngames=10000)))\\nprint(\"time:\",time.time()-start_time)\\nprint(\"inital result: mc100 vs nn: %s, nn vs mc100 %s\"%(vs_test(get_player_MC(100), player_NN, ngames=100), \\n                                                          vs_test(player_NN, get_player_MC(100), ngames=100)))\\nprint(\"time:\",time.time()-start_time)\\nfor i in range(100*N):\\n    total_loss += run_game(V)\\n    if i%N==N-1:\\n        print(\"time:\",time.time()-start_time)\\n        if i%(10*N)==10*N-1:\\n            print(\"#%d midterm avgloss=%f, rand vs nn: %s, nn vs rand %s\"%(i+1, total_loss/N, \\n                                                                        vs_test(player_random, player_NN, ngames=10000, train=train2), \\n                                                              vs_test(player_NN, player_random, ngames=10000, train=train1)))\\n            print(\"            mc100 vs nn: %s, nn vs mc100 %s\"%(vs_test(get_player_MC(100), player_NN, ngames=100, train=train2), \\n                                                          vs_test(player_NN, get_player_MC(100), ngames=100, train=train1)) )\\n            server = \"ws://localhost:8001\"\\n            c4client(name=\"tjwmc\", ngames = 1000, against=\"aima\", display=False, server=server)\\n        else:\\n            print(\"#%d avgloss=%f, rand vs nn: %s, nn vs rand %s\"%(i+1, total_loss/N, vs_test(player_random, player_NN, ngames=1000, train=train2), \\n                                                              vs_test(player_NN, player_random, ngames=1000, train=train1)) )\\n        total_loss = 0\\n        sys.stdout.flush()'\u001b[0m\u001b[1;33m)\u001b[0m\u001b[1;33m\u001b[0m\u001b[0m\n\u001b[0m",
      "\u001b[1;32m/usr/local/lib/python3.4/dist-packages/IPython/core/interactiveshell.py\u001b[0m in \u001b[0;36mrun_cell_magic\u001b[1;34m(self, magic_name, line, cell)\u001b[0m\n\u001b[0;32m   2291\u001b[0m             \u001b[0mmagic_arg_s\u001b[0m \u001b[1;33m=\u001b[0m \u001b[0mself\u001b[0m\u001b[1;33m.\u001b[0m\u001b[0mvar_expand\u001b[0m\u001b[1;33m(\u001b[0m\u001b[0mline\u001b[0m\u001b[1;33m,\u001b[0m \u001b[0mstack_depth\u001b[0m\u001b[1;33m)\u001b[0m\u001b[1;33m\u001b[0m\u001b[0m\n\u001b[0;32m   2292\u001b[0m             \u001b[1;32mwith\u001b[0m \u001b[0mself\u001b[0m\u001b[1;33m.\u001b[0m\u001b[0mbuiltin_trap\u001b[0m\u001b[1;33m:\u001b[0m\u001b[1;33m\u001b[0m\u001b[0m\n\u001b[1;32m-> 2293\u001b[1;33m                 \u001b[0mresult\u001b[0m \u001b[1;33m=\u001b[0m \u001b[0mfn\u001b[0m\u001b[1;33m(\u001b[0m\u001b[0mmagic_arg_s\u001b[0m\u001b[1;33m,\u001b[0m \u001b[0mcell\u001b[0m\u001b[1;33m)\u001b[0m\u001b[1;33m\u001b[0m\u001b[0m\n\u001b[0m\u001b[0;32m   2294\u001b[0m             \u001b[1;32mreturn\u001b[0m \u001b[0mresult\u001b[0m\u001b[1;33m\u001b[0m\u001b[0m\n\u001b[0;32m   2295\u001b[0m \u001b[1;33m\u001b[0m\u001b[0m\n",
      "\u001b[1;32m/usr/local/lib/python3.4/dist-packages/IPython/core/magics/execution.py\u001b[0m in \u001b[0;36mtimeit\u001b[1;34m(self, line, cell)\u001b[0m\n",
      "\u001b[1;32m/usr/local/lib/python3.4/dist-packages/IPython/core/magic.py\u001b[0m in \u001b[0;36m<lambda>\u001b[1;34m(f, *a, **k)\u001b[0m\n\u001b[0;32m    191\u001b[0m     \u001b[1;31m# but it's overkill for just that one bit of state.\u001b[0m\u001b[1;33m\u001b[0m\u001b[1;33m\u001b[0m\u001b[0m\n\u001b[0;32m    192\u001b[0m     \u001b[1;32mdef\u001b[0m \u001b[0mmagic_deco\u001b[0m\u001b[1;33m(\u001b[0m\u001b[0marg\u001b[0m\u001b[1;33m)\u001b[0m\u001b[1;33m:\u001b[0m\u001b[1;33m\u001b[0m\u001b[0m\n\u001b[1;32m--> 193\u001b[1;33m         \u001b[0mcall\u001b[0m \u001b[1;33m=\u001b[0m \u001b[1;32mlambda\u001b[0m \u001b[0mf\u001b[0m\u001b[1;33m,\u001b[0m \u001b[1;33m*\u001b[0m\u001b[0ma\u001b[0m\u001b[1;33m,\u001b[0m \u001b[1;33m**\u001b[0m\u001b[0mk\u001b[0m\u001b[1;33m:\u001b[0m \u001b[0mf\u001b[0m\u001b[1;33m(\u001b[0m\u001b[1;33m*\u001b[0m\u001b[0ma\u001b[0m\u001b[1;33m,\u001b[0m \u001b[1;33m**\u001b[0m\u001b[0mk\u001b[0m\u001b[1;33m)\u001b[0m\u001b[1;33m\u001b[0m\u001b[0m\n\u001b[0m\u001b[0;32m    194\u001b[0m \u001b[1;33m\u001b[0m\u001b[0m\n\u001b[0;32m    195\u001b[0m         \u001b[1;32mif\u001b[0m \u001b[0mcallable\u001b[0m\u001b[1;33m(\u001b[0m\u001b[0marg\u001b[0m\u001b[1;33m)\u001b[0m\u001b[1;33m:\u001b[0m\u001b[1;33m\u001b[0m\u001b[0m\n",
      "\u001b[1;32m/usr/local/lib/python3.4/dist-packages/IPython/core/magics/execution.py\u001b[0m in \u001b[0;36mtimeit\u001b[1;34m(self, line, cell)\u001b[0m\n\u001b[0;32m   1040\u001b[0m                     \u001b[1;32mbreak\u001b[0m\u001b[1;33m\u001b[0m\u001b[0m\n\u001b[0;32m   1041\u001b[0m                 \u001b[0mnumber\u001b[0m \u001b[1;33m*=\u001b[0m \u001b[1;36m10\u001b[0m\u001b[1;33m\u001b[0m\u001b[0m\n\u001b[1;32m-> 1042\u001b[1;33m         \u001b[0mall_runs\u001b[0m \u001b[1;33m=\u001b[0m \u001b[0mtimer\u001b[0m\u001b[1;33m.\u001b[0m\u001b[0mrepeat\u001b[0m\u001b[1;33m(\u001b[0m\u001b[0mrepeat\u001b[0m\u001b[1;33m,\u001b[0m \u001b[0mnumber\u001b[0m\u001b[1;33m)\u001b[0m\u001b[1;33m\u001b[0m\u001b[0m\n\u001b[0m\u001b[0;32m   1043\u001b[0m         \u001b[0mbest\u001b[0m \u001b[1;33m=\u001b[0m \u001b[0mmin\u001b[0m\u001b[1;33m(\u001b[0m\u001b[0mall_runs\u001b[0m\u001b[1;33m)\u001b[0m \u001b[1;33m/\u001b[0m \u001b[0mnumber\u001b[0m\u001b[1;33m\u001b[0m\u001b[0m\n\u001b[0;32m   1044\u001b[0m         \u001b[1;32mif\u001b[0m \u001b[1;32mnot\u001b[0m \u001b[0mquiet\u001b[0m \u001b[1;33m:\u001b[0m\u001b[1;33m\u001b[0m\u001b[0m\n",
      "\u001b[1;32m/usr/lib/python3.4/timeit.py\u001b[0m in \u001b[0;36mrepeat\u001b[1;34m(self, repeat, number)\u001b[0m\n\u001b[0;32m    210\u001b[0m         \u001b[0mr\u001b[0m \u001b[1;33m=\u001b[0m \u001b[1;33m[\u001b[0m\u001b[1;33m]\u001b[0m\u001b[1;33m\u001b[0m\u001b[0m\n\u001b[0;32m    211\u001b[0m         \u001b[1;32mfor\u001b[0m \u001b[0mi\u001b[0m \u001b[1;32min\u001b[0m \u001b[0mrange\u001b[0m\u001b[1;33m(\u001b[0m\u001b[0mrepeat\u001b[0m\u001b[1;33m)\u001b[0m\u001b[1;33m:\u001b[0m\u001b[1;33m\u001b[0m\u001b[0m\n\u001b[1;32m--> 212\u001b[1;33m             \u001b[0mt\u001b[0m \u001b[1;33m=\u001b[0m \u001b[0mself\u001b[0m\u001b[1;33m.\u001b[0m\u001b[0mtimeit\u001b[0m\u001b[1;33m(\u001b[0m\u001b[0mnumber\u001b[0m\u001b[1;33m)\u001b[0m\u001b[1;33m\u001b[0m\u001b[0m\n\u001b[0m\u001b[0;32m    213\u001b[0m             \u001b[0mr\u001b[0m\u001b[1;33m.\u001b[0m\u001b[0mappend\u001b[0m\u001b[1;33m(\u001b[0m\u001b[0mt\u001b[0m\u001b[1;33m)\u001b[0m\u001b[1;33m\u001b[0m\u001b[0m\n\u001b[0;32m    214\u001b[0m         \u001b[1;32mreturn\u001b[0m \u001b[0mr\u001b[0m\u001b[1;33m\u001b[0m\u001b[0m\n",
      "\u001b[1;32m/usr/local/lib/python3.4/dist-packages/IPython/core/magics/execution.py\u001b[0m in \u001b[0;36mtimeit\u001b[1;34m(self, number)\u001b[0m\n\u001b[0;32m    131\u001b[0m         \u001b[0mgc\u001b[0m\u001b[1;33m.\u001b[0m\u001b[0mdisable\u001b[0m\u001b[1;33m(\u001b[0m\u001b[1;33m)\u001b[0m\u001b[1;33m\u001b[0m\u001b[0m\n\u001b[0;32m    132\u001b[0m         \u001b[1;32mtry\u001b[0m\u001b[1;33m:\u001b[0m\u001b[1;33m\u001b[0m\u001b[0m\n\u001b[1;32m--> 133\u001b[1;33m             \u001b[0mtiming\u001b[0m \u001b[1;33m=\u001b[0m \u001b[0mself\u001b[0m\u001b[1;33m.\u001b[0m\u001b[0minner\u001b[0m\u001b[1;33m(\u001b[0m\u001b[0mit\u001b[0m\u001b[1;33m,\u001b[0m \u001b[0mself\u001b[0m\u001b[1;33m.\u001b[0m\u001b[0mtimer\u001b[0m\u001b[1;33m)\u001b[0m\u001b[1;33m\u001b[0m\u001b[0m\n\u001b[0m\u001b[0;32m    134\u001b[0m         \u001b[1;32mfinally\u001b[0m\u001b[1;33m:\u001b[0m\u001b[1;33m\u001b[0m\u001b[0m\n\u001b[0;32m    135\u001b[0m             \u001b[1;32mif\u001b[0m \u001b[0mgcold\u001b[0m\u001b[1;33m:\u001b[0m\u001b[1;33m\u001b[0m\u001b[0m\n",
      "\u001b[1;32m<magic-timeit>\u001b[0m in \u001b[0;36minner\u001b[1;34m(_it, _timer)\u001b[0m\n",
      "\u001b[1;32m<ipython-input-10-2719a9d3f55b>\u001b[0m in \u001b[0;36mvs_test\u001b[1;34m(player1, player2, ngames, train)\u001b[0m\n\u001b[0;32m     23\u001b[0m     \u001b[0mresult\u001b[0m \u001b[1;33m=\u001b[0m \u001b[1;33m[\u001b[0m\u001b[1;36m0\u001b[0m\u001b[1;33m,\u001b[0m\u001b[1;36m0\u001b[0m\u001b[1;33m,\u001b[0m\u001b[1;36m0\u001b[0m\u001b[1;33m]\u001b[0m\u001b[1;33m\u001b[0m\u001b[0m\n\u001b[0;32m     24\u001b[0m     \u001b[1;32mfor\u001b[0m \u001b[0mi\u001b[0m \u001b[1;32min\u001b[0m \u001b[0mrange\u001b[0m\u001b[1;33m(\u001b[0m\u001b[0mngames\u001b[0m\u001b[1;33m)\u001b[0m\u001b[1;33m:\u001b[0m\u001b[1;33m\u001b[0m\u001b[0m\n\u001b[1;32m---> 25\u001b[1;33m         \u001b[0mr\u001b[0m\u001b[1;33m,\u001b[0m \u001b[0mhistory\u001b[0m \u001b[1;33m=\u001b[0m \u001b[0mvs\u001b[0m\u001b[1;33m(\u001b[0m\u001b[0mplayer1\u001b[0m\u001b[1;33m,\u001b[0m \u001b[0mplayer2\u001b[0m\u001b[1;33m)\u001b[0m\u001b[1;33m\u001b[0m\u001b[0m\n\u001b[0m\u001b[0;32m     26\u001b[0m         \u001b[1;32mif\u001b[0m \u001b[0mr\u001b[0m \u001b[1;33m==\u001b[0m \u001b[1;36m0\u001b[0m\u001b[1;33m:\u001b[0m\u001b[1;33m\u001b[0m\u001b[0m\n\u001b[0;32m     27\u001b[0m             \u001b[0mresult\u001b[0m\u001b[1;33m[\u001b[0m\u001b[1;36m0\u001b[0m\u001b[1;33m]\u001b[0m\u001b[1;33m+=\u001b[0m\u001b[1;36m1\u001b[0m\u001b[1;33m\u001b[0m\u001b[0m\n",
      "\u001b[1;32m<ipython-input-9-0542074bfb98>\u001b[0m in \u001b[0;36mvs\u001b[1;34m(player1, player2, display)\u001b[0m\n\u001b[0;32m     32\u001b[0m             \u001b[0mm\u001b[0m \u001b[1;33m=\u001b[0m \u001b[0mplayer1\u001b[0m\u001b[1;33m(\u001b[0m\u001b[0mgame\u001b[0m\u001b[1;33m)\u001b[0m\u001b[1;33m\u001b[0m\u001b[0m\n\u001b[0;32m     33\u001b[0m         \u001b[1;32melse\u001b[0m\u001b[1;33m:\u001b[0m\u001b[1;33m\u001b[0m\u001b[0m\n\u001b[1;32m---> 34\u001b[1;33m             \u001b[0mm\u001b[0m \u001b[1;33m=\u001b[0m \u001b[0mplayer2\u001b[0m\u001b[1;33m(\u001b[0m\u001b[0mgame\u001b[0m\u001b[1;33m)\u001b[0m\u001b[1;33m\u001b[0m\u001b[0m\n\u001b[0m\u001b[0;32m     35\u001b[0m         \u001b[0mgame\u001b[0m\u001b[1;33m.\u001b[0m\u001b[0mmove\u001b[0m\u001b[1;33m(\u001b[0m\u001b[0mm\u001b[0m\u001b[1;33m)\u001b[0m\u001b[1;33m\u001b[0m\u001b[0m\n\u001b[0;32m     36\u001b[0m         \u001b[0mhistory\u001b[0m\u001b[1;33m.\u001b[0m\u001b[0mappend\u001b[0m\u001b[1;33m(\u001b[0m\u001b[0mm\u001b[0m\u001b[1;33m)\u001b[0m\u001b[1;33m\u001b[0m\u001b[0m\n",
      "\u001b[1;32m<ipython-input-9-0542074bfb98>\u001b[0m in \u001b[0;36mplayer_NN\u001b[1;34m(game)\u001b[0m\n\u001b[0;32m      1\u001b[0m \u001b[1;32mdef\u001b[0m \u001b[0mplayer_NN\u001b[0m\u001b[1;33m(\u001b[0m\u001b[0mgame\u001b[0m\u001b[1;33m)\u001b[0m\u001b[1;33m:\u001b[0m\u001b[1;33m\u001b[0m\u001b[0m\n\u001b[0;32m      2\u001b[0m     \u001b[0mmoves\u001b[0m\u001b[1;33m,\u001b[0m \u001b[0mboards\u001b[0m \u001b[1;33m=\u001b[0m \u001b[0mgame\u001b[0m\u001b[1;33m.\u001b[0m\u001b[0m_np_branch\u001b[0m\u001b[1;33m(\u001b[0m\u001b[1;33m)\u001b[0m\u001b[1;33m\u001b[0m\u001b[0m\n\u001b[1;32m----> 3\u001b[1;33m     \u001b[1;32mreturn\u001b[0m \u001b[0mmoves\u001b[0m\u001b[1;33m[\u001b[0m\u001b[0mnp\u001b[0m\u001b[1;33m.\u001b[0m\u001b[0margmax\u001b[0m\u001b[1;33m(\u001b[0m\u001b[0mV\u001b[0m\u001b[1;33m(\u001b[0m\u001b[0mboards\u001b[0m\u001b[1;33m)\u001b[0m\u001b[1;33m)\u001b[0m\u001b[1;33m]\u001b[0m\u001b[1;33m\u001b[0m\u001b[0m\n\u001b[0m\u001b[0;32m      4\u001b[0m \u001b[1;33m\u001b[0m\u001b[0m\n\u001b[0;32m      5\u001b[0m \u001b[1;32mdef\u001b[0m \u001b[0mplayer_random\u001b[0m\u001b[1;33m(\u001b[0m\u001b[0mgame\u001b[0m\u001b[1;33m)\u001b[0m\u001b[1;33m:\u001b[0m\u001b[1;33m\u001b[0m\u001b[0m\n",
      "\u001b[1;32m/usr/local/lib/python3.4/dist-packages/theano/compile/function_module.py\u001b[0m in \u001b[0;36m__call__\u001b[1;34m(self, *args, **kwargs)\u001b[0m\n\u001b[0;32m    857\u001b[0m         \u001b[0mt0_fn\u001b[0m \u001b[1;33m=\u001b[0m \u001b[0mtime\u001b[0m\u001b[1;33m.\u001b[0m\u001b[0mtime\u001b[0m\u001b[1;33m(\u001b[0m\u001b[1;33m)\u001b[0m\u001b[1;33m\u001b[0m\u001b[0m\n\u001b[0;32m    858\u001b[0m         \u001b[1;32mtry\u001b[0m\u001b[1;33m:\u001b[0m\u001b[1;33m\u001b[0m\u001b[0m\n\u001b[1;32m--> 859\u001b[1;33m             \u001b[0moutputs\u001b[0m \u001b[1;33m=\u001b[0m \u001b[0mself\u001b[0m\u001b[1;33m.\u001b[0m\u001b[0mfn\u001b[0m\u001b[1;33m(\u001b[0m\u001b[1;33m)\u001b[0m\u001b[1;33m\u001b[0m\u001b[0m\n\u001b[0m\u001b[0;32m    860\u001b[0m         \u001b[1;32mexcept\u001b[0m \u001b[0mException\u001b[0m\u001b[1;33m:\u001b[0m\u001b[1;33m\u001b[0m\u001b[0m\n\u001b[0;32m    861\u001b[0m             \u001b[1;32mif\u001b[0m \u001b[0mhasattr\u001b[0m\u001b[1;33m(\u001b[0m\u001b[0mself\u001b[0m\u001b[1;33m.\u001b[0m\u001b[0mfn\u001b[0m\u001b[1;33m,\u001b[0m \u001b[1;34m'position_of_error'\u001b[0m\u001b[1;33m)\u001b[0m\u001b[1;33m:\u001b[0m\u001b[1;33m\u001b[0m\u001b[0m\n",
      "\u001b[1;31mKeyboardInterrupt\u001b[0m: "
     ]
    }
   ],
   "source": [
    "%%timeit -n 1 -r 1\n",
    "import time\n",
    "import sys\n",
    "start_time=time.time()\n",
    "def run_game(V, verbose = False, ɛ=0.1, γ=0.95):\n",
    "    game = Connect4()\n",
    "    history=[]\n",
    "    runtime_V=[]\n",
    "    while game.turn < 42 and not game.is_end():\n",
    "        s = 1 if game.turn%2 == 0 else -1\n",
    "        moves, boards = game._np_branch()\n",
    "        #print(boards)\n",
    "        if random() < ɛ:\n",
    "            idx = randint(0, len(moves)-1)\n",
    "            values=[None]*len(moves)\n",
    "        else:\n",
    "            values = V(boards)\n",
    "            idx = np.argmax(values)\n",
    "        m = moves[idx]\n",
    "        game.move(m)\n",
    "        history.append(boards[idx])\n",
    "        runtime_V.append(values[idx])\n",
    "    if game.is_end():\n",
    "        result = 1.\n",
    "    else:\n",
    "        result = 0. # Tie\n",
    "    # train here\n",
    "    #game.display()\n",
    "    estimate_V = np.zeros(len(history), dtype=floatX)\n",
    "    r = result\n",
    "    for i in range(len(history)-1, -1, -1):\n",
    "        estimate_V[i]=r\n",
    "        r *= -γ\n",
    "    loss = train_fn(np.array(history, dtype=floatX), estimate_V)\n",
    "    return loss\n",
    "total_loss = 0\n",
    "N = 5000\n",
    "print(\"inital result: rand vs nn: %s, nn vs rand %s\"%(vs_test(player_random, player_NN, ngames=10000), \n",
    "                                                      vs_test(player_NN, player_random, ngames=10000)))\n",
    "print(\"time:\",time.time()-start_time)\n",
    "print(\"inital result: mc100 vs nn: %s, nn vs mc100 %s\"%(vs_test(get_player_MC(100), player_NN, ngames=100), \n",
    "                                                          vs_test(player_NN, get_player_MC(100), ngames=100)))\n",
    "print(\"time:\",time.time()-start_time)\n",
    "for i in range(100*N):\n",
    "    total_loss += run_game(V)\n",
    "    if i%N==N-1:\n",
    "        print(\"time:\",time.time()-start_time)\n",
    "        if i%(10*N)==10*N-1:\n",
    "            print(\"#%d midterm avgloss=%f, rand vs nn: %s, nn vs rand %s\"%(i+1, total_loss/N, \n",
    "                                                                        vs_test(player_random, player_NN, ngames=10000, train=train2), \n",
    "                                                              vs_test(player_NN, player_random, ngames=10000, train=train1)))\n",
    "            print(\"            mc100 vs nn: %s, nn vs mc100 %s\"%(vs_test(get_player_MC(100), player_NN, ngames=100, train=train2), \n",
    "                                                          vs_test(player_NN, get_player_MC(100), ngames=100, train=train1)) )\n",
    "            server = \"ws://localhost:8001\"\n",
    "            c4client(name=\"tjwmc\", ngames = 1000, against=\"aima\", display=False, server=server)\n",
    "        else:\n",
    "            print(\"#%d avgloss=%f, rand vs nn: %s, nn vs rand %s\"%(i+1, total_loss/N, vs_test(player_random, player_NN, ngames=1000, train=train2), \n",
    "                                                              vs_test(player_NN, player_random, ngames=1000, train=train1)) )\n",
    "        total_loss = 0\n",
    "        sys.stdout.flush()"
   ]
  },
  {
   "cell_type": "code",
   "execution_count": 17,
   "metadata": {
    "collapsed": false
   },
   "outputs": [
    {
     "data": {
      "text/html": [
       "<div style=\"width: 200px; height:180px;position: relative;background: blue\"><img src='img/empty.png' width='23px' height='23px' style='position: absolute; top: 140px; left: 7px;margin-top: 0;z-index: 0' />\n",
       "<img src='img/empty.png' width='23px' height='23px' style='position: absolute; top: 113px; left: 7px;margin-top: 0;z-index: 0' />\n",
       "<img src='img/empty.png' width='23px' height='23px' style='position: absolute; top: 87px; left: 7px;margin-top: 0;z-index: 0' />\n",
       "<img src='img/empty.png' width='23px' height='23px' style='position: absolute; top: 60px; left: 7px;margin-top: 0;z-index: 0' />\n",
       "<img src='img/empty.png' width='23px' height='23px' style='position: absolute; top: 33px; left: 7px;margin-top: 0;z-index: 0' />\n",
       "<img src='img/empty.png' width='23px' height='23px' style='position: absolute; top: 7px; left: 7px;margin-top: 0;z-index: 0' />\n",
       "<img src='img/empty.png' width='23px' height='23px' style='position: absolute; top: 140px; left: 33px;margin-top: 0;z-index: 0' />\n",
       "<img src='img/empty.png' width='23px' height='23px' style='position: absolute; top: 113px; left: 33px;margin-top: 0;z-index: 0' />\n",
       "<img src='img/empty.png' width='23px' height='23px' style='position: absolute; top: 87px; left: 33px;margin-top: 0;z-index: 0' />\n",
       "<img src='img/empty.png' width='23px' height='23px' style='position: absolute; top: 60px; left: 33px;margin-top: 0;z-index: 0' />\n",
       "<img src='img/empty.png' width='23px' height='23px' style='position: absolute; top: 33px; left: 33px;margin-top: 0;z-index: 0' />\n",
       "<img src='img/empty.png' width='23px' height='23px' style='position: absolute; top: 7px; left: 33px;margin-top: 0;z-index: 0' />\n",
       "<img src='img/empty.png' width='23px' height='23px' style='position: absolute; top: 140px; left: 60px;margin-top: 0;z-index: 0' />\n",
       "<img src='img/empty.png' width='23px' height='23px' style='position: absolute; top: 113px; left: 60px;margin-top: 0;z-index: 0' />\n",
       "<img src='img/empty.png' width='23px' height='23px' style='position: absolute; top: 87px; left: 60px;margin-top: 0;z-index: 0' />\n",
       "<img src='img/empty.png' width='23px' height='23px' style='position: absolute; top: 60px; left: 60px;margin-top: 0;z-index: 0' />\n",
       "<img src='img/empty.png' width='23px' height='23px' style='position: absolute; top: 33px; left: 60px;margin-top: 0;z-index: 0' />\n",
       "<img src='img/empty.png' width='23px' height='23px' style='position: absolute; top: 7px; left: 60px;margin-top: 0;z-index: 0' />\n",
       "<img src='img/empty.png' width='23px' height='23px' style='position: absolute; top: 140px; left: 87px;margin-top: 0;z-index: 0' />\n",
       "<img src='img/empty.png' width='23px' height='23px' style='position: absolute; top: 113px; left: 87px;margin-top: 0;z-index: 0' />\n",
       "<img src='img/empty.png' width='23px' height='23px' style='position: absolute; top: 87px; left: 87px;margin-top: 0;z-index: 0' />\n",
       "<img src='img/empty.png' width='23px' height='23px' style='position: absolute; top: 60px; left: 87px;margin-top: 0;z-index: 0' />\n",
       "<img src='img/empty.png' width='23px' height='23px' style='position: absolute; top: 33px; left: 87px;margin-top: 0;z-index: 0' />\n",
       "<img src='img/empty.png' width='23px' height='23px' style='position: absolute; top: 7px; left: 87px;margin-top: 0;z-index: 0' />\n",
       "<img src='img/empty.png' width='23px' height='23px' style='position: absolute; top: 140px; left: 113px;margin-top: 0;z-index: 0' />\n",
       "<img src='img/empty.png' width='23px' height='23px' style='position: absolute; top: 113px; left: 113px;margin-top: 0;z-index: 0' />\n",
       "<img src='img/empty.png' width='23px' height='23px' style='position: absolute; top: 87px; left: 113px;margin-top: 0;z-index: 0' />\n",
       "<img src='img/empty.png' width='23px' height='23px' style='position: absolute; top: 60px; left: 113px;margin-top: 0;z-index: 0' />\n",
       "<img src='img/empty.png' width='23px' height='23px' style='position: absolute; top: 33px; left: 113px;margin-top: 0;z-index: 0' />\n",
       "<img src='img/empty.png' width='23px' height='23px' style='position: absolute; top: 7px; left: 113px;margin-top: 0;z-index: 0' />\n",
       "<img src='img/empty.png' width='23px' height='23px' style='position: absolute; top: 140px; left: 140px;margin-top: 0;z-index: 0' />\n",
       "<img src='img/empty.png' width='23px' height='23px' style='position: absolute; top: 113px; left: 140px;margin-top: 0;z-index: 0' />\n",
       "<img src='img/empty.png' width='23px' height='23px' style='position: absolute; top: 87px; left: 140px;margin-top: 0;z-index: 0' />\n",
       "<img src='img/empty.png' width='23px' height='23px' style='position: absolute; top: 60px; left: 140px;margin-top: 0;z-index: 0' />\n",
       "<img src='img/empty.png' width='23px' height='23px' style='position: absolute; top: 33px; left: 140px;margin-top: 0;z-index: 0' />\n",
       "<img src='img/empty.png' width='23px' height='23px' style='position: absolute; top: 7px; left: 140px;margin-top: 0;z-index: 0' />\n",
       "<img src='img/empty.png' width='23px' height='23px' style='position: absolute; top: 140px; left: 167px;margin-top: 0;z-index: 0' />\n",
       "<img src='img/empty.png' width='23px' height='23px' style='position: absolute; top: 113px; left: 167px;margin-top: 0;z-index: 0' />\n",
       "<img src='img/empty.png' width='23px' height='23px' style='position: absolute; top: 87px; left: 167px;margin-top: 0;z-index: 0' />\n",
       "<img src='img/empty.png' width='23px' height='23px' style='position: absolute; top: 60px; left: 167px;margin-top: 0;z-index: 0' />\n",
       "<img src='img/empty.png' width='23px' height='23px' style='position: absolute; top: 33px; left: 167px;margin-top: 0;z-index: 0' />\n",
       "<img src='img/empty.png' width='23px' height='23px' style='position: absolute; top: 7px; left: 167px;margin-top: 0;z-index: 0' /><img src='img/yellow_coin.png' width='23px' height='23px' style='position: absolute; top: 140px; left: 7px;margin-top: 0;z-index: 2' />\n",
       "<img src='img/yellow_coin.png' width='23px' height='23px' style='position: absolute; top: 113px; left: 7px;margin-top: 0;z-index: 2' />\n",
       "<img src='img/red_coin.png' width='23px' height='23px' style='position: absolute; top: 87px; left: 7px;margin-top: 0;z-index: 2' />\n",
       "<img src='img/yellow_coin.png' width='23px' height='23px' style='position: absolute; top: 60px; left: 7px;margin-top: 0;z-index: 2' />\n",
       "<img src='img/yellow_coin.png' width='23px' height='23px' style='position: absolute; top: 140px; left: 33px;margin-top: 0;z-index: 2' />\n",
       "<img src='img/red_coin.png' width='23px' height='23px' style='position: absolute; top: 113px; left: 33px;margin-top: 0;z-index: 2' />\n",
       "<img src='img/red_coin.png' width='23px' height='23px' style='position: absolute; top: 87px; left: 33px;margin-top: 0;z-index: 2' />\n",
       "<img src='img/yellow_coin.png' width='23px' height='23px' style='position: absolute; top: 60px; left: 33px;margin-top: 0;z-index: 2' />\n",
       "<img src='img/red_coin.png' width='23px' height='23px' style='position: absolute; top: 140px; left: 60px;margin-top: 0;z-index: 2' />\n",
       "<img src='img/red_coin.png' width='23px' height='23px' style='position: absolute; top: 113px; left: 60px;margin-top: 0;z-index: 2' />\n",
       "<img src='img/red_coin.png' width='23px' height='23px' style='position: absolute; top: 140px; left: 87px;margin-top: 0;z-index: 2' />\n",
       "<img src='img/red_coin.png' width='23px' height='23px' style='position: absolute; top: 113px; left: 87px;margin-top: 0;z-index: 2' />\n",
       "<img src='img/yellow_coin.png' width='23px' height='23px' style='position: absolute; top: 87px; left: 87px;margin-top: 0;z-index: 2' />\n",
       "<img src='img/yellow_coin.png' width='23px' height='23px' style='position: absolute; top: 60px; left: 87px;margin-top: 0;z-index: 2' />\n",
       "<img src='img/yellow_coin.png' width='23px' height='23px' style='position: absolute; top: 33px; left: 87px;margin-top: 0;z-index: 2' />\n",
       "<img src='img/red_coin.png' width='23px' height='23px' style='position: absolute; top: 7px; left: 87px;margin-top: 0;z-index: 2' />\n",
       "<img src='img/red_coin.png' width='23px' height='23px' style='position: absolute; top: 140px; left: 113px;margin-top: 0;z-index: 2' />\n",
       "<img src='img/yellow_coin.png' width='23px' height='23px' style='position: absolute; top: 113px; left: 113px;margin-top: 0;z-index: 2' />\n",
       "<img src='img/red_coin.png' width='23px' height='23px' style='position: absolute; top: 87px; left: 113px;margin-top: 0;z-index: 2' />\n",
       "<img src='img/yellow_coin.png' width='23px' height='23px' style='position: absolute; top: 60px; left: 113px;margin-top: 0;z-index: 2' />\n",
       "<img src='img/yellow_coin.png' width='23px' height='23px' style='position: absolute; top: 140px; left: 140px;margin-top: 0;z-index: 2' />\n",
       "<img src='img/red_coin.png' width='23px' height='23px' style='position: absolute; top: 113px; left: 140px;margin-top: 0;z-index: 2' />\n",
       "<img src='img/yellow_coin.png' width='23px' height='23px' style='position: absolute; top: 87px; left: 140px;margin-top: 0;z-index: 2' />\n",
       "<img src='img/red_coin.png' width='23px' height='23px' style='position: absolute; top: 140px; left: 167px;margin-top: 0;z-index: 2' />\n",
       "<img src='img/yellow_coin.png' width='23px' height='23px' style='position: absolute; top: 113px; left: 167px;margin-top: 0;z-index: 2' />\n",
       "<img src='img/red_coin.png' width='23px' height='23px' style='position: absolute; top: 87px; left: 167px;margin-top: 0;z-index: 2' /></div>"
      ],
      "text/plain": [
       "<IPython.core.display.HTML object>"
      ]
     },
     "metadata": {},
     "output_type": "display_data"
    }
   ],
   "source": [
    "from IPython.display import clear_output\n",
    "game = Connect4()\n",
    "c = randint(0, 1)\n",
    "while 1:\n",
    "    clear_output()\n",
    "    display(HTML(game._repr_html_()))\n",
    "    if game.turn >= 42 or game.is_end():\n",
    "        break\n",
    "    if game.turn%2 == c:\n",
    "        #game.move(MC_agent(game))\n",
    "        #while game.move(randint(0,6)) is None: continue\n",
    "        moves, boards = game._np_branch()\n",
    "        game.move(moves[np.argmax(V(boards))])\n",
    "    else:\n",
    "        game.move(int(input(\"your turn\")))"
   ]
  },
  {
   "cell_type": "code",
   "execution_count": 26,
   "metadata": {
    "collapsed": false
   },
   "outputs": [
    {
     "name": "stdout",
     "output_type": "stream",
     "text": [
      "            mc100 vs nn: [2, 52, 46], nn vs mc100 [4, 63, 33]\n"
     ]
    }
   ],
   "source": [
    "print(\"            mc100 vs nn: %s, nn vs mc100 %s\"%(vs_test(get_player_MC(100), player_NN, ngames=100), \n",
    "                                                          vs_test(player_NN, get_player_MC(100), ngames=100)) )"
   ]
  },
  {
   "cell_type": "code",
   "execution_count": 19,
   "metadata": {
    "collapsed": true
   },
   "outputs": [],
   "source": [
    "import websocket, json, sys, argparse\n",
    "import time\n",
    "#server = \"ws://miin.thechiao.com:8001\"\n",
    "server = \"ws://localhost:8001\"\n",
    "\n",
    "class c4client:\n",
    "    def __init__(self, name , ngames=1, against=None, display=True, server=server):\n",
    "        ws = self.ws = websocket.create_connection(server)\n",
    "        self.name = name\n",
    "        self.display = display\n",
    "        self.result = [[0, 0, 0], [0, 0, 0]]\n",
    "        self.against = against\n",
    "        self.total_games = self.ngames=ngames\n",
    "        self.start_game()\n",
    "        self.loop()\n",
    "        \n",
    "    def loop(self):\n",
    "        ws = self.ws\n",
    "        while 1:\n",
    "            msg = json.loads(ws.recv())\n",
    "            msg_type = msg[\"type\"]\n",
    "            byebye = ({\"end\" : \"Game has ended\",\n",
    "                       \"disconnected\" : \"Other player has disconnected\"}\n",
    "                      .get(msg_type, None))\n",
    "            if byebye:\n",
    "                #print(byebye)\n",
    "                observer = None\n",
    "                if self.ngames:\n",
    "                    self.start_game()\n",
    "                    continue\n",
    "                else:\n",
    "                    print(\"Result: %s of %d games\"%(self.result, self.total_games))\n",
    "                    return\n",
    "\n",
    "            if msg_type == \"ignored\":\n",
    "                print(\"Invalid input, try again\")\n",
    "                ws.send(json.dumps({\"type\" : \"state_request\"}))\n",
    "                continue\n",
    "\n",
    "            if msg_type == \"state\":\n",
    "                you = msg[\"you\"]\n",
    "                turn = msg[\"turn\"]\n",
    "\n",
    "                game = Connect4()\n",
    "                board = msg[\"state\"]\n",
    "                for i in range(7):\n",
    "                    for j in range(6):\n",
    "                        v = board[i*6+j]\n",
    "                        game.set_col_row(i, j, v)\n",
    "                        if v >0:\n",
    "                            game.turn += 1\n",
    "                if self.display==\"all\":\n",
    "                        game.display()\n",
    "                        print(turn, \"Your side:\", you)\n",
    "                winner = msg.get(\"winner\", None)\n",
    "\n",
    "                reward = 0\n",
    "\n",
    "                if winner != None:\n",
    "                    self.result[you-1][winner] += 1\n",
    "                    if self.display:\n",
    "                        game.display()\n",
    "                        print(\"Your side=\", you, \"winner=\", winner, self.result)\n",
    "                    #if self.ngames %10 == 0:\n",
    "                    #    print(self.total_games-self.ngames, self.result)\n",
    "                    continue\n",
    "\n",
    "                if turn == you:\n",
    "                    #move = MC_agent(game)\n",
    "                    moves, boards = game._np_branch()\n",
    "                    move = moves[np.argmax(V(boards))]\n",
    "                    if self.display==\"all\":\n",
    "                        print(\"my move\", move)\n",
    "                    ws.send(json.dumps({\"type\" : \"move\",  \"move\" : move}))\n",
    "                else:\n",
    "                    #print(\"Waiting for other player to play\")\n",
    "                    pass\n",
    "\n",
    "    def start_game(self):\n",
    "        self.ws.send(json.dumps({\"type\" : \"start\",  \"id\" : self.name, \"against\" : self.against}))\n",
    "        #print(\"Waiting for game to start\", self.ngames)\n",
    "        self.ngames -= 1\n",
    "\n",
    "\n",
    "\n"
   ]
  },
  {
   "cell_type": "code",
   "execution_count": 18,
   "metadata": {
    "collapsed": false
   },
   "outputs": [
    {
     "ename": "NameError",
     "evalue": "name 'c4client' is not defined",
     "output_type": "error",
     "traceback": [
      "\u001b[1;31m---------------------------------------------------------------------------\u001b[0m",
      "\u001b[1;31mNameError\u001b[0m                                 Traceback (most recent call last)",
      "\u001b[1;32m<ipython-input-18-a807a034fe7c>\u001b[0m in \u001b[0;36m<module>\u001b[1;34m()\u001b[0m\n\u001b[1;32m----> 1\u001b[1;33m \u001b[0mget_ipython\u001b[0m\u001b[1;33m(\u001b[0m\u001b[1;33m)\u001b[0m\u001b[1;33m.\u001b[0m\u001b[0mrun_cell_magic\u001b[0m\u001b[1;33m(\u001b[0m\u001b[1;34m'timeit'\u001b[0m\u001b[1;33m,\u001b[0m \u001b[1;34m'-n 1 -r 1'\u001b[0m\u001b[1;33m,\u001b[0m \u001b[1;34m'#server = \"ws://miin.thechiao.com:8001\"\\nserver = \"ws://localhost:8001\"\\nc4client(name=\"tjwmc\", ngames = 1, against=\"aima\", display=\"all\", server=server)'\u001b[0m\u001b[1;33m)\u001b[0m\u001b[1;33m\u001b[0m\u001b[0m\n\u001b[0m",
      "\u001b[1;32m/usr/local/lib/python3.4/dist-packages/IPython/core/interactiveshell.py\u001b[0m in \u001b[0;36mrun_cell_magic\u001b[1;34m(self, magic_name, line, cell)\u001b[0m\n\u001b[0;32m   2291\u001b[0m             \u001b[0mmagic_arg_s\u001b[0m \u001b[1;33m=\u001b[0m \u001b[0mself\u001b[0m\u001b[1;33m.\u001b[0m\u001b[0mvar_expand\u001b[0m\u001b[1;33m(\u001b[0m\u001b[0mline\u001b[0m\u001b[1;33m,\u001b[0m \u001b[0mstack_depth\u001b[0m\u001b[1;33m)\u001b[0m\u001b[1;33m\u001b[0m\u001b[0m\n\u001b[0;32m   2292\u001b[0m             \u001b[1;32mwith\u001b[0m \u001b[0mself\u001b[0m\u001b[1;33m.\u001b[0m\u001b[0mbuiltin_trap\u001b[0m\u001b[1;33m:\u001b[0m\u001b[1;33m\u001b[0m\u001b[0m\n\u001b[1;32m-> 2293\u001b[1;33m                 \u001b[0mresult\u001b[0m \u001b[1;33m=\u001b[0m \u001b[0mfn\u001b[0m\u001b[1;33m(\u001b[0m\u001b[0mmagic_arg_s\u001b[0m\u001b[1;33m,\u001b[0m \u001b[0mcell\u001b[0m\u001b[1;33m)\u001b[0m\u001b[1;33m\u001b[0m\u001b[0m\n\u001b[0m\u001b[0;32m   2294\u001b[0m             \u001b[1;32mreturn\u001b[0m \u001b[0mresult\u001b[0m\u001b[1;33m\u001b[0m\u001b[0m\n\u001b[0;32m   2295\u001b[0m \u001b[1;33m\u001b[0m\u001b[0m\n",
      "\u001b[1;32m/usr/local/lib/python3.4/dist-packages/IPython/core/magics/execution.py\u001b[0m in \u001b[0;36mtimeit\u001b[1;34m(self, line, cell)\u001b[0m\n",
      "\u001b[1;32m/usr/local/lib/python3.4/dist-packages/IPython/core/magic.py\u001b[0m in \u001b[0;36m<lambda>\u001b[1;34m(f, *a, **k)\u001b[0m\n\u001b[0;32m    191\u001b[0m     \u001b[1;31m# but it's overkill for just that one bit of state.\u001b[0m\u001b[1;33m\u001b[0m\u001b[1;33m\u001b[0m\u001b[0m\n\u001b[0;32m    192\u001b[0m     \u001b[1;32mdef\u001b[0m \u001b[0mmagic_deco\u001b[0m\u001b[1;33m(\u001b[0m\u001b[0marg\u001b[0m\u001b[1;33m)\u001b[0m\u001b[1;33m:\u001b[0m\u001b[1;33m\u001b[0m\u001b[0m\n\u001b[1;32m--> 193\u001b[1;33m         \u001b[0mcall\u001b[0m \u001b[1;33m=\u001b[0m \u001b[1;32mlambda\u001b[0m \u001b[0mf\u001b[0m\u001b[1;33m,\u001b[0m \u001b[1;33m*\u001b[0m\u001b[0ma\u001b[0m\u001b[1;33m,\u001b[0m \u001b[1;33m**\u001b[0m\u001b[0mk\u001b[0m\u001b[1;33m:\u001b[0m \u001b[0mf\u001b[0m\u001b[1;33m(\u001b[0m\u001b[1;33m*\u001b[0m\u001b[0ma\u001b[0m\u001b[1;33m,\u001b[0m \u001b[1;33m**\u001b[0m\u001b[0mk\u001b[0m\u001b[1;33m)\u001b[0m\u001b[1;33m\u001b[0m\u001b[0m\n\u001b[0m\u001b[0;32m    194\u001b[0m \u001b[1;33m\u001b[0m\u001b[0m\n\u001b[0;32m    195\u001b[0m         \u001b[1;32mif\u001b[0m \u001b[0mcallable\u001b[0m\u001b[1;33m(\u001b[0m\u001b[0marg\u001b[0m\u001b[1;33m)\u001b[0m\u001b[1;33m:\u001b[0m\u001b[1;33m\u001b[0m\u001b[0m\n",
      "\u001b[1;32m/usr/local/lib/python3.4/dist-packages/IPython/core/magics/execution.py\u001b[0m in \u001b[0;36mtimeit\u001b[1;34m(self, line, cell)\u001b[0m\n\u001b[0;32m   1040\u001b[0m                     \u001b[1;32mbreak\u001b[0m\u001b[1;33m\u001b[0m\u001b[0m\n\u001b[0;32m   1041\u001b[0m                 \u001b[0mnumber\u001b[0m \u001b[1;33m*=\u001b[0m \u001b[1;36m10\u001b[0m\u001b[1;33m\u001b[0m\u001b[0m\n\u001b[1;32m-> 1042\u001b[1;33m         \u001b[0mall_runs\u001b[0m \u001b[1;33m=\u001b[0m \u001b[0mtimer\u001b[0m\u001b[1;33m.\u001b[0m\u001b[0mrepeat\u001b[0m\u001b[1;33m(\u001b[0m\u001b[0mrepeat\u001b[0m\u001b[1;33m,\u001b[0m \u001b[0mnumber\u001b[0m\u001b[1;33m)\u001b[0m\u001b[1;33m\u001b[0m\u001b[0m\n\u001b[0m\u001b[0;32m   1043\u001b[0m         \u001b[0mbest\u001b[0m \u001b[1;33m=\u001b[0m \u001b[0mmin\u001b[0m\u001b[1;33m(\u001b[0m\u001b[0mall_runs\u001b[0m\u001b[1;33m)\u001b[0m \u001b[1;33m/\u001b[0m \u001b[0mnumber\u001b[0m\u001b[1;33m\u001b[0m\u001b[0m\n\u001b[0;32m   1044\u001b[0m         \u001b[1;32mif\u001b[0m \u001b[1;32mnot\u001b[0m \u001b[0mquiet\u001b[0m \u001b[1;33m:\u001b[0m\u001b[1;33m\u001b[0m\u001b[0m\n",
      "\u001b[1;32m/usr/lib/python3.4/timeit.py\u001b[0m in \u001b[0;36mrepeat\u001b[1;34m(self, repeat, number)\u001b[0m\n\u001b[0;32m    210\u001b[0m         \u001b[0mr\u001b[0m \u001b[1;33m=\u001b[0m \u001b[1;33m[\u001b[0m\u001b[1;33m]\u001b[0m\u001b[1;33m\u001b[0m\u001b[0m\n\u001b[0;32m    211\u001b[0m         \u001b[1;32mfor\u001b[0m \u001b[0mi\u001b[0m \u001b[1;32min\u001b[0m \u001b[0mrange\u001b[0m\u001b[1;33m(\u001b[0m\u001b[0mrepeat\u001b[0m\u001b[1;33m)\u001b[0m\u001b[1;33m:\u001b[0m\u001b[1;33m\u001b[0m\u001b[0m\n\u001b[1;32m--> 212\u001b[1;33m             \u001b[0mt\u001b[0m \u001b[1;33m=\u001b[0m \u001b[0mself\u001b[0m\u001b[1;33m.\u001b[0m\u001b[0mtimeit\u001b[0m\u001b[1;33m(\u001b[0m\u001b[0mnumber\u001b[0m\u001b[1;33m)\u001b[0m\u001b[1;33m\u001b[0m\u001b[0m\n\u001b[0m\u001b[0;32m    213\u001b[0m             \u001b[0mr\u001b[0m\u001b[1;33m.\u001b[0m\u001b[0mappend\u001b[0m\u001b[1;33m(\u001b[0m\u001b[0mt\u001b[0m\u001b[1;33m)\u001b[0m\u001b[1;33m\u001b[0m\u001b[0m\n\u001b[0;32m    214\u001b[0m         \u001b[1;32mreturn\u001b[0m \u001b[0mr\u001b[0m\u001b[1;33m\u001b[0m\u001b[0m\n",
      "\u001b[1;32m/usr/local/lib/python3.4/dist-packages/IPython/core/magics/execution.py\u001b[0m in \u001b[0;36mtimeit\u001b[1;34m(self, number)\u001b[0m\n\u001b[0;32m    131\u001b[0m         \u001b[0mgc\u001b[0m\u001b[1;33m.\u001b[0m\u001b[0mdisable\u001b[0m\u001b[1;33m(\u001b[0m\u001b[1;33m)\u001b[0m\u001b[1;33m\u001b[0m\u001b[0m\n\u001b[0;32m    132\u001b[0m         \u001b[1;32mtry\u001b[0m\u001b[1;33m:\u001b[0m\u001b[1;33m\u001b[0m\u001b[0m\n\u001b[1;32m--> 133\u001b[1;33m             \u001b[0mtiming\u001b[0m \u001b[1;33m=\u001b[0m \u001b[0mself\u001b[0m\u001b[1;33m.\u001b[0m\u001b[0minner\u001b[0m\u001b[1;33m(\u001b[0m\u001b[0mit\u001b[0m\u001b[1;33m,\u001b[0m \u001b[0mself\u001b[0m\u001b[1;33m.\u001b[0m\u001b[0mtimer\u001b[0m\u001b[1;33m)\u001b[0m\u001b[1;33m\u001b[0m\u001b[0m\n\u001b[0m\u001b[0;32m    134\u001b[0m         \u001b[1;32mfinally\u001b[0m\u001b[1;33m:\u001b[0m\u001b[1;33m\u001b[0m\u001b[0m\n\u001b[0;32m    135\u001b[0m             \u001b[1;32mif\u001b[0m \u001b[0mgcold\u001b[0m\u001b[1;33m:\u001b[0m\u001b[1;33m\u001b[0m\u001b[0m\n",
      "\u001b[1;32m<magic-timeit>\u001b[0m in \u001b[0;36minner\u001b[1;34m(_it, _timer)\u001b[0m\n",
      "\u001b[1;31mNameError\u001b[0m: name 'c4client' is not defined"
     ]
    }
   ],
   "source": [
    "%%timeit -n 1 -r 1\n",
    "#server = \"ws://miin.thechiao.com:8001\"\n",
    "server = \"ws://localhost:8001\"\n",
    "c4client(name=\"tjwmc\", ngames = 1, against=\"aima\", display=\"all\", server=server)"
   ]
  },
  {
   "cell_type": "code",
   "execution_count": 28,
   "metadata": {
    "collapsed": false
   },
   "outputs": [
    {
     "name": "stdout",
     "output_type": "stream",
     "text": [
      "Result: [[0, 98, 419], [0, 0, 483]] of 1000 games\n",
      "1 loops, best of 1: 19.4 s per loop\n"
     ]
    }
   ],
   "source": [
    "%%timeit -n 1 -r 1\n",
    "server = \"ws://miin.thechiao.com:8001\"\n",
    "server = \"ws://localhost:8001\"\n",
    "c4client(name=\"tjwmc\", ngames = 1000, against=\"aima\", display=False, server=server)"
   ]
  },
  {
   "cell_type": "code",
   "execution_count": 33,
   "metadata": {
    "collapsed": false
   },
   "outputs": [],
   "source": [
    "# save\n",
    "import pickle\n",
    "values = lasagne.layers.get_all_param_values(l_out)\n",
    "pickle.dump(values,open(\"c4-merge.pkl\",\"wb\"))"
   ]
  },
  {
   "cell_type": "code",
   "execution_count": null,
   "metadata": {
    "collapsed": false
   },
   "outputs": [],
   "source": []
  },
  {
   "cell_type": "code",
   "execution_count": 16,
   "metadata": {
    "collapsed": false
   },
   "outputs": [],
   "source": [
    "# load\n",
    "import pickle\n",
    "values = pickle.load(open(\"c4-merge.pkl\",\"rb\"))\n",
    "lasagne.layers.set_all_param_values(l_out, values)"
   ]
  },
  {
   "cell_type": "code",
   "execution_count": null,
   "metadata": {
    "collapsed": true
   },
   "outputs": [],
   "source": []
  }
 ],
 "metadata": {
  "kernelspec": {
   "display_name": "Python 3",
   "language": "python",
   "name": "python3"
  },
  "language_info": {
   "codemirror_mode": {
    "name": "ipython",
    "version": 3
   },
   "file_extension": ".py",
   "mimetype": "text/x-python",
   "name": "python",
   "nbconvert_exporter": "python",
   "pygments_lexer": "ipython3",
   "version": "3.4.3"
  }
 },
 "nbformat": 4,
 "nbformat_minor": 0
}
