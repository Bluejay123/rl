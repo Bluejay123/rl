{
 "cells": [
  {
   "cell_type": "code",
   "execution_count": 1,
   "metadata": {
    "collapsed": false
   },
   "outputs": [],
   "source": [
    "from game2048 import Game\n",
    "import sys"
   ]
  },
  {
   "cell_type": "code",
   "execution_count": 2,
   "metadata": {
    "collapsed": false
   },
   "outputs": [
    {
     "name": "stderr",
     "output_type": "stream",
     "text": [
      "Using gpu device 0: GeForce GTX 965M (CNMeM is disabled, CuDNN 4007)\n",
      "/usr/local/lib/python3.4/dist-packages/theano/tensor/signal/downsample.py:5: UserWarning: downsample module has been moved to the pool module.\n",
      "  warnings.warn(\"downsample module has been moved to the pool module.\")\n"
     ]
    },
    {
     "name": "stdout",
     "output_type": "stream",
     "text": [
      "Couldn't import dot_parser, loading of dot files will not be possible.\n"
     ]
    }
   ],
   "source": [
    "import numpy as np\n",
    "import theano\n",
    "import theano.tensor as T\n",
    "import lasagne\n",
    "from lasagne.layers import DenseLayer\n",
    "floatX = theano.config.floatX"
   ]
  },
  {
   "cell_type": "code",
   "execution_count": 3,
   "metadata": {
    "collapsed": false
   },
   "outputs": [],
   "source": [
    "input_var = T.tensor4()\n",
    "target_var = T.ivector()\n",
    "_ = lasagne.layers.InputLayer(shape=(None, 4, 4, 20), input_var=input_var)\n",
    "_ = DenseLayer(_, num_units=900, nonlinearity=lasagne.nonlinearities.rectify)\n",
    "_ = DenseLayer(_, num_units=300, nonlinearity=lasagne.nonlinearities.rectify)\n",
    "_ = DenseLayer(_, num_units=200, nonlinearity=lasagne.nonlinearities.rectify)\n",
    "l_out = DenseLayer(_, num_units=4, nonlinearity=lasagne.nonlinearities.softmax)\n",
    "prediction = lasagne.layers.get_output(l_out)\n",
    "P = theano.function([input_var], prediction)"
   ]
  },
  {
   "cell_type": "code",
   "execution_count": 4,
   "metadata": {
    "collapsed": true
   },
   "outputs": [],
   "source": [
    "table ={2**(i+1):i for i in range(20)}\n",
    "def make_input(grid, d=0):\n",
    "    g0 = np.rot90(grid, -d)\n",
    "    r = np.zeros(shape=(4,4,20), dtype=floatX)\n",
    "    for i in range(4):\n",
    "        for j in range(4):\n",
    "            v = g0[i, j]\n",
    "            if v:\n",
    "                r[i, j][table[v]]=1\n",
    "    return r"
   ]
  },
  {
   "cell_type": "code",
   "execution_count": 5,
   "metadata": {
    "collapsed": false
   },
   "outputs": [],
   "source": [
    "with np.load('model-0.npz') as f:\n",
    "     param_values = [f['arr_%d' % i] for i in range(len(f.files))]\n",
    "lasagne.layers.set_all_param_values(l_out, param_values)"
   ]
  },
  {
   "cell_type": "code",
   "execution_count": 8,
   "metadata": {
    "collapsed": false
   },
   "outputs": [
    {
     "name": "stdout",
     "output_type": "stream",
     "text": [
      "7529.4 871.17 {1024: 63, 2048: 14, 128: 1, 512: 21, 256: 1}\n"
     ]
    }
   ],
   "source": [
    "N =100\n",
    "s=0\n",
    "slen=0\n",
    "stat = {}\n",
    "for i in range(N):\n",
    "    game = Game()\n",
    "    moves = [0,1,2,3]\n",
    "    game_len = 0\n",
    "    while not game.end:\n",
    "        board = np.array([make_input(game.grid)], dtype=floatX)\n",
    "        moves = np.argsort(P(board)[0])[::-1]\n",
    "        for m in moves:\n",
    "            if game.move(m):\n",
    "                break\n",
    "        game_len+=1\n",
    "    s+= game.score\n",
    "    slen+=game_len\n",
    "    m = game.max()\n",
    "    stat[m]=stat.get(m,0)+1\n",
    "print(s/N, slen/N, stat)"
   ]
  },
  {
   "cell_type": "code",
   "execution_count": 9,
   "metadata": {
    "collapsed": false
   },
   "outputs": [
    {
     "name": "stdout",
     "output_type": "stream",
     "text": [
      "7459.652 862.87 {1024: 606, 2048: 145, 128: 3, 512: 214, 256: 32}\n"
     ]
    }
   ],
   "source": [
    "N =1000\n",
    "s=0\n",
    "slen=0\n",
    "stat = {}\n",
    "for i in range(N):\n",
    "    game = Game()\n",
    "    moves = [0,1,2,3]\n",
    "    game_len = 0\n",
    "    while not game.end:\n",
    "        board = np.array([make_input(game.grid)], dtype=floatX)\n",
    "        moves = np.argsort(P(board)[0])[::-1]\n",
    "        for m in moves:\n",
    "            if game.move(m):\n",
    "                break\n",
    "        game_len+=1\n",
    "    s+= game.score\n",
    "    slen+=game_len\n",
    "    m = game.max()\n",
    "    stat[m]=stat.get(m,0)+1\n",
    "print(s/N, slen/N, stat)"
   ]
  },
  {
   "cell_type": "code",
   "execution_count": null,
   "metadata": {
    "collapsed": true
   },
   "outputs": [],
   "source": []
  }
 ],
 "metadata": {
  "kernelspec": {
   "display_name": "Python 3",
   "language": "python",
   "name": "python3"
  },
  "language_info": {
   "codemirror_mode": {
    "name": "ipython",
    "version": 3
   },
   "file_extension": ".py",
   "mimetype": "text/x-python",
   "name": "python",
   "nbconvert_exporter": "python",
   "pygments_lexer": "ipython3",
   "version": "3.4.3"
  }
 },
 "nbformat": 4,
 "nbformat_minor": 0
}
